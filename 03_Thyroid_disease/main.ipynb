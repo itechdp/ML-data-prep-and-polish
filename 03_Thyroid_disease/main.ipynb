{
 "cells": [
  {
   "cell_type": "markdown",
   "metadata": {},
   "source": [
    "# Thyroid Disease Dataset"
   ]
  },
  {
   "cell_type": "markdown",
   "metadata": {},
   "source": [
    "### Import Packages"
   ]
  },
  {
   "cell_type": "code",
   "execution_count": 33,
   "metadata": {},
   "outputs": [],
   "source": [
    "import pandas as pd\n",
    "from sklearn.preprocessing import OrdinalEncoder, LabelEncoder, MinMaxScaler\n",
    "import matplotlib.pyplot as plt"
   ]
  },
  {
   "cell_type": "markdown",
   "metadata": {},
   "source": [
    "### Importing Dataset "
   ]
  },
  {
   "cell_type": "code",
   "execution_count": 5,
   "metadata": {},
   "outputs": [
    {
     "data": {
      "text/html": [
       "<div>\n",
       "<style scoped>\n",
       "    .dataframe tbody tr th:only-of-type {\n",
       "        vertical-align: middle;\n",
       "    }\n",
       "\n",
       "    .dataframe tbody tr th {\n",
       "        vertical-align: top;\n",
       "    }\n",
       "\n",
       "    .dataframe thead th {\n",
       "        text-align: right;\n",
       "    }\n",
       "</style>\n",
       "<table border=\"1\" class=\"dataframe\">\n",
       "  <thead>\n",
       "    <tr style=\"text-align: right;\">\n",
       "      <th></th>\n",
       "      <th>41</th>\n",
       "      <th>F</th>\n",
       "      <th>f</th>\n",
       "      <th>f.1</th>\n",
       "      <th>f.2</th>\n",
       "      <th>f.3</th>\n",
       "      <th>f.4</th>\n",
       "      <th>f.5</th>\n",
       "      <th>f.6</th>\n",
       "      <th>f.7</th>\n",
       "      <th>...</th>\n",
       "      <th>t.2</th>\n",
       "      <th>125</th>\n",
       "      <th>t.3</th>\n",
       "      <th>1.14</th>\n",
       "      <th>t.4</th>\n",
       "      <th>109</th>\n",
       "      <th>f.14</th>\n",
       "      <th>?</th>\n",
       "      <th>SVHC</th>\n",
       "      <th>negative.|3733</th>\n",
       "    </tr>\n",
       "  </thead>\n",
       "  <tbody>\n",
       "    <tr>\n",
       "      <th>0</th>\n",
       "      <td>23</td>\n",
       "      <td>F</td>\n",
       "      <td>f</td>\n",
       "      <td>f</td>\n",
       "      <td>f</td>\n",
       "      <td>f</td>\n",
       "      <td>f</td>\n",
       "      <td>f</td>\n",
       "      <td>f</td>\n",
       "      <td>f</td>\n",
       "      <td>...</td>\n",
       "      <td>t</td>\n",
       "      <td>102</td>\n",
       "      <td>f</td>\n",
       "      <td>?</td>\n",
       "      <td>f</td>\n",
       "      <td>?</td>\n",
       "      <td>f</td>\n",
       "      <td>?</td>\n",
       "      <td>other</td>\n",
       "      <td>negative.|1442</td>\n",
       "    </tr>\n",
       "    <tr>\n",
       "      <th>1</th>\n",
       "      <td>46</td>\n",
       "      <td>M</td>\n",
       "      <td>f</td>\n",
       "      <td>f</td>\n",
       "      <td>f</td>\n",
       "      <td>f</td>\n",
       "      <td>f</td>\n",
       "      <td>f</td>\n",
       "      <td>f</td>\n",
       "      <td>f</td>\n",
       "      <td>...</td>\n",
       "      <td>t</td>\n",
       "      <td>109</td>\n",
       "      <td>t</td>\n",
       "      <td>0.91</td>\n",
       "      <td>t</td>\n",
       "      <td>120</td>\n",
       "      <td>f</td>\n",
       "      <td>?</td>\n",
       "      <td>other</td>\n",
       "      <td>negative.|2965</td>\n",
       "    </tr>\n",
       "    <tr>\n",
       "      <th>2</th>\n",
       "      <td>70</td>\n",
       "      <td>F</td>\n",
       "      <td>t</td>\n",
       "      <td>f</td>\n",
       "      <td>f</td>\n",
       "      <td>f</td>\n",
       "      <td>f</td>\n",
       "      <td>f</td>\n",
       "      <td>f</td>\n",
       "      <td>f</td>\n",
       "      <td>...</td>\n",
       "      <td>t</td>\n",
       "      <td>175</td>\n",
       "      <td>f</td>\n",
       "      <td>?</td>\n",
       "      <td>f</td>\n",
       "      <td>?</td>\n",
       "      <td>f</td>\n",
       "      <td>?</td>\n",
       "      <td>other</td>\n",
       "      <td>negative.|806</td>\n",
       "    </tr>\n",
       "    <tr>\n",
       "      <th>3</th>\n",
       "      <td>70</td>\n",
       "      <td>F</td>\n",
       "      <td>f</td>\n",
       "      <td>f</td>\n",
       "      <td>f</td>\n",
       "      <td>f</td>\n",
       "      <td>f</td>\n",
       "      <td>f</td>\n",
       "      <td>f</td>\n",
       "      <td>f</td>\n",
       "      <td>...</td>\n",
       "      <td>t</td>\n",
       "      <td>61</td>\n",
       "      <td>t</td>\n",
       "      <td>0.87</td>\n",
       "      <td>t</td>\n",
       "      <td>70</td>\n",
       "      <td>f</td>\n",
       "      <td>?</td>\n",
       "      <td>SVI</td>\n",
       "      <td>negative.|2807</td>\n",
       "    </tr>\n",
       "    <tr>\n",
       "      <th>4</th>\n",
       "      <td>18</td>\n",
       "      <td>F</td>\n",
       "      <td>t</td>\n",
       "      <td>f</td>\n",
       "      <td>f</td>\n",
       "      <td>f</td>\n",
       "      <td>f</td>\n",
       "      <td>f</td>\n",
       "      <td>f</td>\n",
       "      <td>f</td>\n",
       "      <td>...</td>\n",
       "      <td>t</td>\n",
       "      <td>183</td>\n",
       "      <td>t</td>\n",
       "      <td>1.3</td>\n",
       "      <td>t</td>\n",
       "      <td>141</td>\n",
       "      <td>f</td>\n",
       "      <td>?</td>\n",
       "      <td>other</td>\n",
       "      <td>negative.|3434</td>\n",
       "    </tr>\n",
       "  </tbody>\n",
       "</table>\n",
       "<p>5 rows × 30 columns</p>\n",
       "</div>"
      ],
      "text/plain": [
       "   41  F  f f.1 f.2 f.3 f.4 f.5 f.6 f.7  ... t.2  125 t.3  1.14 t.4  109 f.14  \\\n",
       "0  23  F  f   f   f   f   f   f   f   f  ...   t  102   f     ?   f    ?    f   \n",
       "1  46  M  f   f   f   f   f   f   f   f  ...   t  109   t  0.91   t  120    f   \n",
       "2  70  F  t   f   f   f   f   f   f   f  ...   t  175   f     ?   f    ?    f   \n",
       "3  70  F  f   f   f   f   f   f   f   f  ...   t   61   t  0.87   t   70    f   \n",
       "4  18  F  t   f   f   f   f   f   f   f  ...   t  183   t   1.3   t  141    f   \n",
       "\n",
       "   ?   SVHC  negative.|3733  \n",
       "0  ?  other  negative.|1442  \n",
       "1  ?  other  negative.|2965  \n",
       "2  ?  other   negative.|806  \n",
       "3  ?    SVI  negative.|2807  \n",
       "4  ?  other  negative.|3434  \n",
       "\n",
       "[5 rows x 30 columns]"
      ]
     },
     "execution_count": 5,
     "metadata": {},
     "output_type": "execute_result"
    }
   ],
   "source": [
    "rawfile = r'E:\\\\Programming languages\\\\Machine Learning\\\\Data Gathering & Processing\\\\03_Thyroid_disease\\\\allbp.data'\n",
    "df = pd.read_csv(rawfile) # Reading Dataset\n",
    "df.head()"
   ]
  },
  {
   "cell_type": "markdown",
   "metadata": {},
   "source": [
    "### Information about Attributes\n",
    "- Column names are not assigned, it is considering 1st instance data as column name so we will be assigning columns to dataset.\n",
    "- As shown below all attributes are Object Dtype so we will be using Encoding to convert them into numerical Dtype."
   ]
  },
  {
   "cell_type": "code",
   "execution_count": 6,
   "metadata": {},
   "outputs": [
    {
     "name": "stdout",
     "output_type": "stream",
     "text": [
      "<class 'pandas.core.frame.DataFrame'>\n",
      "RangeIndex: 2799 entries, 0 to 2798\n",
      "Data columns (total 30 columns):\n",
      " #   Column          Non-Null Count  Dtype \n",
      "---  ------          --------------  ----- \n",
      " 0   41              2799 non-null   object\n",
      " 1   F               2799 non-null   object\n",
      " 2   f               2799 non-null   object\n",
      " 3   f.1             2799 non-null   object\n",
      " 4   f.2             2799 non-null   object\n",
      " 5   f.3             2799 non-null   object\n",
      " 6   f.4             2799 non-null   object\n",
      " 7   f.5             2799 non-null   object\n",
      " 8   f.6             2799 non-null   object\n",
      " 9   f.7             2799 non-null   object\n",
      " 10  f.8             2799 non-null   object\n",
      " 11  f.9             2799 non-null   object\n",
      " 12  f.10            2799 non-null   object\n",
      " 13  f.11            2799 non-null   object\n",
      " 14  f.12            2799 non-null   object\n",
      " 15  f.13            2799 non-null   object\n",
      " 16  t               2799 non-null   object\n",
      " 17  1.3             2799 non-null   object\n",
      " 18  t.1             2799 non-null   object\n",
      " 19  2.5             2799 non-null   object\n",
      " 20  t.2             2799 non-null   object\n",
      " 21  125             2799 non-null   object\n",
      " 22  t.3             2799 non-null   object\n",
      " 23  1.14            2799 non-null   object\n",
      " 24  t.4             2799 non-null   object\n",
      " 25  109             2799 non-null   object\n",
      " 26  f.14            2799 non-null   object\n",
      " 27  ?               2799 non-null   object\n",
      " 28  SVHC            2799 non-null   object\n",
      " 29  negative.|3733  2799 non-null   object\n",
      "dtypes: object(30)\n",
      "memory usage: 656.1+ KB\n"
     ]
    }
   ],
   "source": [
    "df_info = df.info()\n",
    "df_info"
   ]
  },
  {
   "cell_type": "markdown",
   "metadata": {},
   "source": [
    "### Assigning columns"
   ]
  },
  {
   "cell_type": "code",
   "execution_count": 9,
   "metadata": {},
   "outputs": [
    {
     "data": {
      "text/html": [
       "<div>\n",
       "<style scoped>\n",
       "    .dataframe tbody tr th:only-of-type {\n",
       "        vertical-align: middle;\n",
       "    }\n",
       "\n",
       "    .dataframe tbody tr th {\n",
       "        vertical-align: top;\n",
       "    }\n",
       "\n",
       "    .dataframe thead th {\n",
       "        text-align: right;\n",
       "    }\n",
       "</style>\n",
       "<table border=\"1\" class=\"dataframe\">\n",
       "  <thead>\n",
       "    <tr style=\"text-align: right;\">\n",
       "      <th></th>\n",
       "      <th>age</th>\n",
       "      <th>sex</th>\n",
       "      <th>on thyroxine</th>\n",
       "      <th>query on thyroxine</th>\n",
       "      <th>on antithyroid medication</th>\n",
       "      <th>sick</th>\n",
       "      <th>pregnant</th>\n",
       "      <th>thyroid surgery</th>\n",
       "      <th>I131 treatment</th>\n",
       "      <th>query hypothyroid</th>\n",
       "      <th>...</th>\n",
       "      <th>TT4 measured:</th>\n",
       "      <th>TT4</th>\n",
       "      <th>T4U measured</th>\n",
       "      <th>T4U</th>\n",
       "      <th>FTI measured</th>\n",
       "      <th>FTI</th>\n",
       "      <th>TBG measured</th>\n",
       "      <th>TBG</th>\n",
       "      <th>referral source</th>\n",
       "      <th>negative</th>\n",
       "    </tr>\n",
       "  </thead>\n",
       "  <tbody>\n",
       "    <tr>\n",
       "      <th>0</th>\n",
       "      <td>23</td>\n",
       "      <td>F</td>\n",
       "      <td>f</td>\n",
       "      <td>f</td>\n",
       "      <td>f</td>\n",
       "      <td>f</td>\n",
       "      <td>f</td>\n",
       "      <td>f</td>\n",
       "      <td>f</td>\n",
       "      <td>f</td>\n",
       "      <td>...</td>\n",
       "      <td>t</td>\n",
       "      <td>102</td>\n",
       "      <td>f</td>\n",
       "      <td>?</td>\n",
       "      <td>f</td>\n",
       "      <td>?</td>\n",
       "      <td>f</td>\n",
       "      <td>?</td>\n",
       "      <td>other</td>\n",
       "      <td>negative.|1442</td>\n",
       "    </tr>\n",
       "    <tr>\n",
       "      <th>1</th>\n",
       "      <td>46</td>\n",
       "      <td>M</td>\n",
       "      <td>f</td>\n",
       "      <td>f</td>\n",
       "      <td>f</td>\n",
       "      <td>f</td>\n",
       "      <td>f</td>\n",
       "      <td>f</td>\n",
       "      <td>f</td>\n",
       "      <td>f</td>\n",
       "      <td>...</td>\n",
       "      <td>t</td>\n",
       "      <td>109</td>\n",
       "      <td>t</td>\n",
       "      <td>0.91</td>\n",
       "      <td>t</td>\n",
       "      <td>120</td>\n",
       "      <td>f</td>\n",
       "      <td>?</td>\n",
       "      <td>other</td>\n",
       "      <td>negative.|2965</td>\n",
       "    </tr>\n",
       "    <tr>\n",
       "      <th>2</th>\n",
       "      <td>70</td>\n",
       "      <td>F</td>\n",
       "      <td>t</td>\n",
       "      <td>f</td>\n",
       "      <td>f</td>\n",
       "      <td>f</td>\n",
       "      <td>f</td>\n",
       "      <td>f</td>\n",
       "      <td>f</td>\n",
       "      <td>f</td>\n",
       "      <td>...</td>\n",
       "      <td>t</td>\n",
       "      <td>175</td>\n",
       "      <td>f</td>\n",
       "      <td>?</td>\n",
       "      <td>f</td>\n",
       "      <td>?</td>\n",
       "      <td>f</td>\n",
       "      <td>?</td>\n",
       "      <td>other</td>\n",
       "      <td>negative.|806</td>\n",
       "    </tr>\n",
       "    <tr>\n",
       "      <th>3</th>\n",
       "      <td>70</td>\n",
       "      <td>F</td>\n",
       "      <td>f</td>\n",
       "      <td>f</td>\n",
       "      <td>f</td>\n",
       "      <td>f</td>\n",
       "      <td>f</td>\n",
       "      <td>f</td>\n",
       "      <td>f</td>\n",
       "      <td>f</td>\n",
       "      <td>...</td>\n",
       "      <td>t</td>\n",
       "      <td>61</td>\n",
       "      <td>t</td>\n",
       "      <td>0.87</td>\n",
       "      <td>t</td>\n",
       "      <td>70</td>\n",
       "      <td>f</td>\n",
       "      <td>?</td>\n",
       "      <td>SVI</td>\n",
       "      <td>negative.|2807</td>\n",
       "    </tr>\n",
       "    <tr>\n",
       "      <th>4</th>\n",
       "      <td>18</td>\n",
       "      <td>F</td>\n",
       "      <td>t</td>\n",
       "      <td>f</td>\n",
       "      <td>f</td>\n",
       "      <td>f</td>\n",
       "      <td>f</td>\n",
       "      <td>f</td>\n",
       "      <td>f</td>\n",
       "      <td>f</td>\n",
       "      <td>...</td>\n",
       "      <td>t</td>\n",
       "      <td>183</td>\n",
       "      <td>t</td>\n",
       "      <td>1.3</td>\n",
       "      <td>t</td>\n",
       "      <td>141</td>\n",
       "      <td>f</td>\n",
       "      <td>?</td>\n",
       "      <td>other</td>\n",
       "      <td>negative.|3434</td>\n",
       "    </tr>\n",
       "  </tbody>\n",
       "</table>\n",
       "<p>5 rows × 30 columns</p>\n",
       "</div>"
      ],
      "text/plain": [
       "  age sex on thyroxine query on thyroxine on antithyroid medication sick  \\\n",
       "0  23   F            f                  f                         f    f   \n",
       "1  46   M            f                  f                         f    f   \n",
       "2  70   F            t                  f                         f    f   \n",
       "3  70   F            f                  f                         f    f   \n",
       "4  18   F            t                  f                         f    f   \n",
       "\n",
       "  pregnant thyroid surgery I131 treatment query hypothyroid  ...  \\\n",
       "0        f               f              f                 f  ...   \n",
       "1        f               f              f                 f  ...   \n",
       "2        f               f              f                 f  ...   \n",
       "3        f               f              f                 f  ...   \n",
       "4        f               f              f                 f  ...   \n",
       "\n",
       "  TT4 measured:  TT4 T4U measured   T4U FTI measured  FTI TBG measured TBG  \\\n",
       "0             t  102            f     ?            f    ?            f   ?   \n",
       "1             t  109            t  0.91            t  120            f   ?   \n",
       "2             t  175            f     ?            f    ?            f   ?   \n",
       "3             t   61            t  0.87            t   70            f   ?   \n",
       "4             t  183            t   1.3            t  141            f   ?   \n",
       "\n",
       "  referral source        negative  \n",
       "0           other  negative.|1442  \n",
       "1           other  negative.|2965  \n",
       "2           other   negative.|806  \n",
       "3             SVI  negative.|2807  \n",
       "4           other  negative.|3434  \n",
       "\n",
       "[5 rows x 30 columns]"
      ]
     },
     "execution_count": 9,
     "metadata": {},
     "output_type": "execute_result"
    }
   ],
   "source": [
    "df_columns = [\n",
    "    'age', 'sex', 'on thyroxine', 'query on thyroxine', 'on antithyroid medication',\n",
    "    'sick', 'pregnant', 'thyroid surgery', 'I131 treatment', 'query hypothyroid',\n",
    "    'query hyperthyroid', 'lithium', 'goitre', 'tumor', 'hypopituitary', 'psych',\n",
    "    'TSH measured', 'TSH', 'T3 measured', 'T3', 'TT4 measured:', 'TT4',\n",
    "    'T4U measured', 'T4U', 'FTI measured', 'FTI', 'TBG measured', 'TBG',\n",
    "    'referral source','negative'\n",
    "]\n",
    "\n",
    "df.columns = df_columns\n",
    "df.head()"
   ]
  },
  {
   "cell_type": "markdown",
   "metadata": {},
   "source": [
    "### Splitting into Features and label"
   ]
  },
  {
   "cell_type": "code",
   "execution_count": 10,
   "metadata": {},
   "outputs": [],
   "source": [
    "df_features = df.drop('negative',axis=1)\n",
    "df_label = df[['negative']]"
   ]
  },
  {
   "cell_type": "markdown",
   "metadata": {},
   "source": [
    "### Information about Features & Label"
   ]
  },
  {
   "cell_type": "code",
   "execution_count": 11,
   "metadata": {},
   "outputs": [
    {
     "name": "stdout",
     "output_type": "stream",
     "text": [
      "<class 'pandas.core.frame.DataFrame'>\n",
      "RangeIndex: 2799 entries, 0 to 2798\n",
      "Data columns (total 29 columns):\n",
      " #   Column                     Non-Null Count  Dtype \n",
      "---  ------                     --------------  ----- \n",
      " 0   age                        2799 non-null   object\n",
      " 1   sex                        2799 non-null   object\n",
      " 2   on thyroxine               2799 non-null   object\n",
      " 3   query on thyroxine         2799 non-null   object\n",
      " 4   on antithyroid medication  2799 non-null   object\n",
      " 5   sick                       2799 non-null   object\n",
      " 6   pregnant                   2799 non-null   object\n",
      " 7   thyroid surgery            2799 non-null   object\n",
      " 8   I131 treatment             2799 non-null   object\n",
      " 9   query hypothyroid          2799 non-null   object\n",
      " 10  query hyperthyroid         2799 non-null   object\n",
      " 11  lithium                    2799 non-null   object\n",
      " 12  goitre                     2799 non-null   object\n",
      " 13  tumor                      2799 non-null   object\n",
      " 14  hypopituitary              2799 non-null   object\n",
      " 15  psych                      2799 non-null   object\n",
      " 16  TSH measured               2799 non-null   object\n",
      " 17  TSH                        2799 non-null   object\n",
      " 18  T3 measured                2799 non-null   object\n",
      " 19  T3                         2799 non-null   object\n",
      " 20  TT4 measured:              2799 non-null   object\n",
      " 21  TT4                        2799 non-null   object\n",
      " 22  T4U measured               2799 non-null   object\n",
      " 23  T4U                        2799 non-null   object\n",
      " 24  FTI measured               2799 non-null   object\n",
      " 25  FTI                        2799 non-null   object\n",
      " 26  TBG measured               2799 non-null   object\n",
      " 27  TBG                        2799 non-null   object\n",
      " 28  referral source            2799 non-null   object\n",
      "dtypes: object(29)\n",
      "memory usage: 634.3+ KB\n",
      "None\n",
      "<class 'pandas.core.frame.DataFrame'>\n",
      "RangeIndex: 2799 entries, 0 to 2798\n",
      "Data columns (total 1 columns):\n",
      " #   Column    Non-Null Count  Dtype \n",
      "---  ------    --------------  ----- \n",
      " 0   negative  2799 non-null   object\n",
      "dtypes: object(1)\n",
      "memory usage: 22.0+ KB\n",
      "None\n"
     ]
    }
   ],
   "source": [
    "print(df_features.info())\n",
    "print(df_label.info())"
   ]
  },
  {
   "cell_type": "markdown",
   "metadata": {},
   "source": [
    "### Checking for N-Unique Values in Features\n",
    "- Below Table shows, column name and Unique categorical value presented in it.\n",
    "- For Ex. Sex 2 (Means, Male & Female)"
   ]
  },
  {
   "cell_type": "code",
   "execution_count": 14,
   "metadata": {},
   "outputs": [
    {
     "name": "stdout",
     "output_type": "stream",
     "text": [
      "negative    2799\n",
      "dtype: int64\n",
      "age                           94\n",
      "sex                            3\n",
      "on thyroxine                   2\n",
      "query on thyroxine             2\n",
      "on antithyroid medication      2\n",
      "sick                           2\n",
      "pregnant                       2\n",
      "thyroid surgery                2\n",
      "I131 treatment                 2\n",
      "query hypothyroid              2\n",
      "query hyperthyroid             2\n",
      "lithium                        2\n",
      "goitre                         2\n",
      "tumor                          2\n",
      "hypopituitary                  2\n",
      "psych                          2\n",
      "TSH measured                   2\n",
      "TSH                          264\n",
      "T3 measured                    2\n",
      "T3                            65\n",
      "TT4 measured:                  2\n",
      "TT4                          218\n",
      "T4U measured                   2\n",
      "T4U                          139\n",
      "FTI measured                   2\n",
      "FTI                          210\n",
      "TBG measured                   1\n",
      "TBG                            1\n",
      "referral source                5\n",
      "dtype: int64\n"
     ]
    }
   ],
   "source": [
    "df_feature_nunique = df_features.nunique()\n",
    "df_label_nunique = df_label.nunique()\n",
    "print(df_label_nunique)\n",
    "print(df_feature_nunique)"
   ]
  },
  {
   "cell_type": "markdown",
   "metadata": {},
   "source": [
    "### Performing Encoding on Features\n",
    "- For encoding of Features we will be using OrdinalEncoder() from sklearn.preprocessing.\n",
    "- For encoding of label we will be using LabelEncoder() from sklearn.preprocessing.\n",
    "- As shown below once we have applied OrdinalEncoder() on features, all the features have converted from Object to float64"
   ]
  },
  {
   "cell_type": "code",
   "execution_count": 26,
   "metadata": {},
   "outputs": [
    {
     "name": "stdout",
     "output_type": "stream",
     "text": [
      "<class 'pandas.core.frame.DataFrame'>\n",
      "RangeIndex: 2799 entries, 0 to 2798\n",
      "Data columns (total 29 columns):\n",
      " #   Column                     Non-Null Count  Dtype  \n",
      "---  ------                     --------------  -----  \n",
      " 0   age                        2799 non-null   float64\n",
      " 1   sex                        2799 non-null   float64\n",
      " 2   on thyroxine               2799 non-null   float64\n",
      " 3   query on thyroxine         2799 non-null   float64\n",
      " 4   on antithyroid medication  2799 non-null   float64\n",
      " 5   sick                       2799 non-null   float64\n",
      " 6   pregnant                   2799 non-null   float64\n",
      " 7   thyroid surgery            2799 non-null   float64\n",
      " 8   I131 treatment             2799 non-null   float64\n",
      " 9   query hypothyroid          2799 non-null   float64\n",
      " 10  query hyperthyroid         2799 non-null   float64\n",
      " 11  lithium                    2799 non-null   float64\n",
      " 12  goitre                     2799 non-null   float64\n",
      " 13  tumor                      2799 non-null   float64\n",
      " 14  hypopituitary              2799 non-null   float64\n",
      " 15  psych                      2799 non-null   float64\n",
      " 16  TSH measured               2799 non-null   float64\n",
      " 17  TSH                        2799 non-null   float64\n",
      " 18  T3 measured                2799 non-null   float64\n",
      " 19  T3                         2799 non-null   float64\n",
      " 20  TT4 measured:              2799 non-null   float64\n",
      " 21  TT4                        2799 non-null   float64\n",
      " 22  T4U measured               2799 non-null   float64\n",
      " 23  T4U                        2799 non-null   float64\n",
      " 24  FTI measured               2799 non-null   float64\n",
      " 25  FTI                        2799 non-null   float64\n",
      " 26  TBG measured               2799 non-null   float64\n",
      " 27  TBG                        2799 non-null   float64\n",
      " 28  referral source            2799 non-null   float64\n",
      "dtypes: float64(29)\n",
      "memory usage: 634.3 KB\n",
      "None\n"
     ]
    }
   ],
   "source": [
    "ordinal_encoder = OrdinalEncoder()\n",
    "df_features_encoded = ordinal_encoder.fit_transform(df_features)\n",
    "df_features_encoded = pd.DataFrame(df_features_encoded,columns=df_features.columns)\n",
    "print(df_features_encoded.info())\n"
   ]
  },
  {
   "cell_type": "markdown",
   "metadata": {},
   "source": [
    "### Performing Encoding on Label"
   ]
  },
  {
   "cell_type": "code",
   "execution_count": 28,
   "metadata": {},
   "outputs": [
    {
     "name": "stdout",
     "output_type": "stream",
     "text": [
      "<class 'pandas.core.frame.DataFrame'>\n",
      "RangeIndex: 2799 entries, 0 to 2798\n",
      "Data columns (total 1 columns):\n",
      " #   Column    Non-Null Count  Dtype\n",
      "---  ------    --------------  -----\n",
      " 0   negative  2799 non-null   int32\n",
      "dtypes: int32(1)\n",
      "memory usage: 11.1 KB\n",
      "None\n"
     ]
    }
   ],
   "source": [
    "label_encoder = LabelEncoder()\n",
    "df_label_encoded = label_encoder.fit_transform(df_label['negative'])\n",
    "df_label_encoded = pd.DataFrame(df_label_encoded,columns=df_label.columns)\n",
    "print(df_label_encoded.info())"
   ]
  },
  {
   "cell_type": "markdown",
   "metadata": {},
   "source": [
    "### Describing Features \n",
    "- Using describe() we are getting, Estimate of Location, Estimate of Variability etc."
   ]
  },
  {
   "cell_type": "code",
   "execution_count": 29,
   "metadata": {},
   "outputs": [
    {
     "name": "stdout",
     "output_type": "stream",
     "text": [
      "               age          sex  on thyroxine  query on thyroxine  \\\n",
      "count  2799.000000  2799.000000   2799.000000         2799.000000   \n",
      "mean     46.493748     1.267953      0.117899            0.014291   \n",
      "std      20.800231     0.524263      0.322546            0.118708   \n",
      "min       0.000000     0.000000      0.000000            0.000000   \n",
      "25%      29.000000     1.000000      0.000000            0.000000   \n",
      "50%      50.000000     1.000000      0.000000            0.000000   \n",
      "75%      63.000000     2.000000      0.000000            0.000000   \n",
      "max      93.000000     2.000000      1.000000            1.000000   \n",
      "\n",
      "       on antithyroid medication         sick     pregnant  thyroid surgery  \\\n",
      "count                2799.000000  2799.000000  2799.000000      2799.000000   \n",
      "mean                    0.012147     0.039300     0.014648         0.013934   \n",
      "std                     0.109562     0.194342     0.120161         0.117236   \n",
      "min                     0.000000     0.000000     0.000000         0.000000   \n",
      "25%                     0.000000     0.000000     0.000000         0.000000   \n",
      "50%                     0.000000     0.000000     0.000000         0.000000   \n",
      "75%                     0.000000     0.000000     0.000000         0.000000   \n",
      "max                     1.000000     1.000000     1.000000         1.000000   \n",
      "\n",
      "       I131 treatment  query hypothyroid  ...           T3  TT4 measured:  \\\n",
      "count     2799.000000        2799.000000  ...  2799.000000    2799.000000   \n",
      "mean         0.017149           0.058235  ...    29.755984       0.934262   \n",
      "std          0.129850           0.234229  ...    19.082796       0.247867   \n",
      "min          0.000000           0.000000  ...     0.000000       0.000000   \n",
      "25%          0.000000           0.000000  ...    17.000000       1.000000   \n",
      "50%          0.000000           0.000000  ...    23.000000       1.000000   \n",
      "75%          0.000000           0.000000  ...    35.000000       1.000000   \n",
      "max          1.000000           1.000000  ...    64.000000       1.000000   \n",
      "\n",
      "               TT4  T4U measured          T4U  FTI measured          FTI  \\\n",
      "count  2799.000000   2799.000000  2799.000000   2799.000000  2799.000000   \n",
      "mean    110.196856      0.893891    62.246517      0.894605   100.894962   \n",
      "std      87.511773      0.308033    31.802418      0.307116    86.110563   \n",
      "min       0.000000      0.000000     0.000000      0.000000     0.000000   \n",
      "25%      23.000000      1.000000    42.000000      1.000000    18.000000   \n",
      "50%      82.000000      1.000000    54.000000      1.000000    58.000000   \n",
      "75%     203.500000      1.000000    68.000000      1.000000   199.000000   \n",
      "max     217.000000      1.000000   138.000000      1.000000   209.000000   \n",
      "\n",
      "       TBG measured     TBG  referral source  \n",
      "count        2799.0  2799.0      2799.000000  \n",
      "mean            0.0     0.0         3.278671  \n",
      "std             0.0     0.0         1.095940  \n",
      "min             0.0     0.0         0.000000  \n",
      "25%             0.0     0.0         3.000000  \n",
      "50%             0.0     0.0         4.000000  \n",
      "75%             0.0     0.0         4.000000  \n",
      "max             0.0     0.0         4.000000  \n",
      "\n",
      "[8 rows x 29 columns]\n"
     ]
    }
   ],
   "source": [
    "df_features_describe = df_features_encoded.describe()\n",
    "print(df_features_describe)"
   ]
  },
  {
   "cell_type": "markdown",
   "metadata": {},
   "source": [
    "### Checking for Outliers\n",
    "- As shown in below box plot, T4U features contains plenty of outliers, Which likely to affect our machine learning model, so we will be removing those outliers, and for that we will be applying removing outliers formula on entire dataset."
   ]
  },
  {
   "cell_type": "code",
   "execution_count": 41,
   "metadata": {},
   "outputs": [
    {
     "data": {
      "text/plain": [
       "<AxesSubplot: >"
      ]
     },
     "execution_count": 41,
     "metadata": {},
     "output_type": "execute_result"
    },
    {
     "data": {
      "image/png": "[encoded data removed]",
      "text/plain": [
       "<Figure size 3000x1000 with 1 Axes>"
      ]
     },
     "metadata": {},
     "output_type": "display_data"
    }
   ],
   "source": [
    "plt.figure(figsize=(30,10))\n",
    "df_features_encoded.boxplot()"
   ]
  },
  {
   "cell_type": "markdown",
   "metadata": {},
   "source": [
    "### Removing Outliers\n",
    "- For Outliers of each column in feature Dataframe, below 25% and above 75% will be removed."
   ]
  },
  {
   "cell_type": "code",
   "execution_count": 52,
   "metadata": {},
   "outputs": [],
   "source": [
    "Q1 = df_features_encoded.quantile(0.25)\n",
    "Q3 = df_features_encoded.quantile(0.75)\n",
    "IQR = Q3 - Q1\n",
    "\n",
    "lower_bound = Q1 - 0.5 * IQR\n",
    "upper_bound = Q3 + 0.5 * IQR\n",
    "\n",
    "df_features_no_outliers = df_features_encoded[(df_features_encoded >= lower_bound) & (df_features_encoded <= upper_bound)]"
   ]
  },
  {
   "cell_type": "markdown",
   "metadata": {},
   "source": [
    "### Checking for Outliers (After removed)\n",
    "- As shown below once we have removed all the outliers now we could apply this data on machine learnign model after normalization."
   ]
  },
  {
   "cell_type": "code",
   "execution_count": 53,
   "metadata": {},
   "outputs": [
    {
     "data": {
      "text/plain": [
       "<AxesSubplot: >"
      ]
     },
     "execution_count": 53,
     "metadata": {},
     "output_type": "execute_result"
    },
    {
     "data": {
      "image/png": "[encoded data removed]",
      "text/plain": [
       "<Figure size 3000x1000 with 1 Axes>"
      ]
     },
     "metadata": {},
     "output_type": "display_data"
    }
   ],
   "source": [
    "plt.figure(figsize=(30,10))\n",
    "df_features_no_outliers.boxplot()"
   ]
  },
  {
   "cell_type": "markdown",
   "metadata": {},
   "source": [
    "### Applying Normalization on Numeric data\n",
    "- For normalization of numeric data we will be using MinMaxScaler() from sklearn.preprocessing"
   ]
  },
  {
   "cell_type": "code",
   "execution_count": 32,
   "metadata": {},
   "outputs": [],
   "source": [
    "minMax_scaler = MinMaxScaler()\n",
    "df_features_scaled = minMax_scaler.fit_transform(df_features_encoded)\n",
    "df_features_scaled = pd.DataFrame(df_features_scaled,columns=df_features.columns)"
   ]
  },
  {
   "cell_type": "markdown",
   "metadata": {},
   "source": [
    "### `NOTE:` Required preprocessing has done, you could make some changes by pulling this repository for more visit: www.github.com/itechdp"
   ]
  }
 ],
 "metadata": {
  "kernelspec": {
   "display_name": "Python 3",
   "language": "python",
   "name": "python3"
  },
  "language_info": {
   "codemirror_mode": {
    "name": "ipython",
    "version": 3
   },
   "file_extension": ".py",
   "mimetype": "text/x-python",
   "name": "python",
   "nbconvert_exporter": "python",
   "pygments_lexer": "ipython3",
   "version": "3.11.4"
  }
 },
 "nbformat": 4,
 "nbformat_minor": 2
}
