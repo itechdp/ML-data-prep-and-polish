{
 "cells": [
  {
   "cell_type": "markdown",
   "metadata": {},
   "source": [
    "# SUPPORT 2\n",
    "Dataset Information\n",
    "For what purpose was the dataset created?\n",
    "\n",
    "To develop and validate a prognostic model that estimates survival over a 180-day period for seriously ill hospitalized adults (phase I of SUPPORT) and to compare this model's predictions with those of an existing prognostic system and with physicians' independent estimates (SUPPORT phase II).\n",
    "\n",
    "What do the instances in this dataset represent?\n",
    "\n",
    "The instances represent records of critically ill patients admitted to United States hospitals with advanced stages of serious illness.\n",
    "\n",
    "Are there recommended data splits?\n",
    "\n",
    "No recommendation, standard train-test split could be used. Can use three-way holdout split (i.e., train-validation-test) when doing model selection.\n",
    "\n",
    "Does the dataset contain data that might be considered sensitive in any way?\n",
    "\n",
    "Yes. There is information about race, gender, income, and education level.\n",
    "\n",
    "Was there any data preprocessing performed?\n",
    "\n",
    "No.  Due to the high percentage of missing values, there are a couple of recommended imputation values:\n",
    "According to the HBiostat Repository (https://hbiostat.org/data/repo/supportdesc, Professor Frank Harrell) the following default values have been found to be useful in imputing missing baseline physiologic data:\n",
    "Baseline Variable\tNormal Fill-in Value\n",
    "- Serum albumin (alb)\t3.5\n",
    "- PaO2/FiO2 ratio (pafi) \t333.3\n",
    "- Bilirubin (bili)\t1.01\n",
    "- Creatinine (crea)\t1.01\n",
    "- bun\t6.51\n",
    "- White blood count (wblc)\t9 (thousands)\n",
    "- Urine output (urine)\t2502\n",
    "There are 159 patients surviving 2 months for whom there were no patient or surrogate interviews. These patients have missing sfdm2."
   ]
  },
  {
   "cell_type": "markdown",
   "metadata": {},
   "source": [
    "### Importing Packages"
   ]
  },
  {
   "cell_type": "code",
   "execution_count": 27,
   "metadata": {},
   "outputs": [],
   "source": [
    "import pandas as pd\n",
    "from ucimlrepo import fetch_ucirepo \n",
    "import matplotlib.pyplot as plt\n",
    "from sklearn.preprocessing import OrdinalEncoder\n",
    "from sklearn.preprocessing import StandardScaler\n",
    "from sklearn.impute import SimpleImputer\n",
    "from sklearn.model_selection import train_test_split"
   ]
  },
  {
   "cell_type": "markdown",
   "metadata": {},
   "source": [
    "### Importing Dataset"
   ]
  },
  {
   "cell_type": "code",
   "execution_count": 2,
   "metadata": {},
   "outputs": [],
   "source": [
    "# fetch dataset \n",
    "support2 = fetch_ucirepo(id=880) \n",
    "  \n",
    "# data (as pandas dataframes) \n",
    "X = support2.data.features \n",
    "y = support2.data.targets "
   ]
  },
  {
   "cell_type": "markdown",
   "metadata": {},
   "source": [
    "## Exploratory Data Analysis\n",
    "- Converting Features and Labels into DataFrame\n",
    "- Information about features\n",
    "- Information about label\n",
    "- Nunique values for target variable\n",
    "- Values count of target variable\n",
    "- Checking object columns in Features and Labels\n",
    "- Correlations of Features and Labels\n",
    "- Finding missing values for Features and labels"
   ]
  },
  {
   "cell_type": "markdown",
   "metadata": {},
   "source": [
    "### Converting Features and Labels into DataFrame"
   ]
  },
  {
   "cell_type": "code",
   "execution_count": 3,
   "metadata": {},
   "outputs": [
    {
     "name": "stdout",
     "output_type": "stream",
     "text": [
      "        age     sex            dzgroup             dzclass  num.co   edu  \\\n",
      "0  62.84998    male        Lung Cancer              Cancer       0  11.0   \n",
      "1  60.33899  female          Cirrhosis  COPD/CHF/Cirrhosis       2  12.0   \n",
      "2  52.74698  female          Cirrhosis  COPD/CHF/Cirrhosis       2  12.0   \n",
      "3  42.38498  female        Lung Cancer              Cancer       2  11.0   \n",
      "4  79.88495  female  ARF/MOSF w/Sepsis            ARF/MOSF       1   NaN   \n",
      "\n",
      "       income  scoma  charges  totcst  ...      bili      crea    sod  \\\n",
      "0    $11-$25k    0.0   9715.0     NaN  ...  0.199982  1.199951  141.0   \n",
      "1    $11-$25k   44.0  34496.0     NaN  ...       NaN  5.500000  132.0   \n",
      "2  under $11k    0.0  41094.0     NaN  ...  2.199707  2.000000  134.0   \n",
      "3  under $11k    0.0   3075.0     NaN  ...       NaN  0.799927  139.0   \n",
      "4         NaN   26.0  50127.0     NaN  ...       NaN  0.799927  143.0   \n",
      "\n",
      "         ph  glucose  bun  urine  adlp  adls  adlsc  \n",
      "0  7.459961      NaN  NaN    NaN   7.0   7.0    7.0  \n",
      "1  7.250000      NaN  NaN    NaN   NaN   1.0    1.0  \n",
      "2  7.459961      NaN  NaN    NaN   1.0   0.0    0.0  \n",
      "3       NaN      NaN  NaN    NaN   0.0   0.0    0.0  \n",
      "4  7.509766      NaN  NaN    NaN   NaN   2.0    2.0  \n",
      "\n",
      "[5 rows x 42 columns]\n",
      "   death  hospdead                sfdm2\n",
      "0      0         0                  NaN\n",
      "1      1         1     <2 mo. follow-up\n",
      "2      1         0     <2 mo. follow-up\n",
      "3      1         0  no(M2 and SIP pres)\n",
      "4      0         0  no(M2 and SIP pres)\n"
     ]
    }
   ],
   "source": [
    "X = pd.DataFrame(data=X)\n",
    "y = pd.DataFrame(data=y)\n",
    "print(X.head())\n",
    "print(y.head())"
   ]
  },
  {
   "cell_type": "markdown",
   "metadata": {},
   "source": [
    "### Information about Features"
   ]
  },
  {
   "cell_type": "code",
   "execution_count": 4,
   "metadata": {},
   "outputs": [
    {
     "name": "stdout",
     "output_type": "stream",
     "text": [
      "<class 'pandas.core.frame.DataFrame'>\n",
      "RangeIndex: 9105 entries, 0 to 9104\n",
      "Data columns (total 42 columns):\n",
      " #   Column    Non-Null Count  Dtype  \n",
      "---  ------    --------------  -----  \n",
      " 0   age       9105 non-null   float64\n",
      " 1   sex       9105 non-null   object \n",
      " 2   dzgroup   9105 non-null   object \n",
      " 3   dzclass   9105 non-null   object \n",
      " 4   num.co    9105 non-null   int64  \n",
      " 5   edu       7471 non-null   float64\n",
      " 6   income    6123 non-null   object \n",
      " 7   scoma     9104 non-null   float64\n",
      " 8   charges   8933 non-null   float64\n",
      " 9   totcst    8217 non-null   float64\n",
      " 10  totmcst   5630 non-null   float64\n",
      " 11  avtisst   9023 non-null   float64\n",
      " 12  race      9063 non-null   object \n",
      " 13  sps       9104 non-null   float64\n",
      " 14  aps       9104 non-null   float64\n",
      " 15  surv2m    9104 non-null   float64\n",
      " 16  surv6m    9104 non-null   float64\n",
      " 17  hday      9105 non-null   int64  \n",
      " 18  diabetes  9105 non-null   int64  \n",
      " 19  dementia  9105 non-null   int64  \n",
      " 20  ca        9105 non-null   object \n",
      " 21  prg2m     7456 non-null   float64\n",
      " 22  prg6m     7472 non-null   float64\n",
      " 23  dnr       9075 non-null   object \n",
      " 24  dnrday    9075 non-null   float64\n",
      " 25  meanbp    9104 non-null   float64\n",
      " 26  wblc      8893 non-null   float64\n",
      " 27  hrt       9104 non-null   float64\n",
      " 28  resp      9104 non-null   float64\n",
      " 29  temp      9104 non-null   float64\n",
      " 30  pafi      6780 non-null   float64\n",
      " 31  alb       5733 non-null   float64\n",
      " 32  bili      6504 non-null   float64\n",
      " 33  crea      9038 non-null   float64\n",
      " 34  sod       9104 non-null   float64\n",
      " 35  ph        6821 non-null   float64\n",
      " 36  glucose   4605 non-null   float64\n",
      " 37  bun       4753 non-null   float64\n",
      " 38  urine     4243 non-null   float64\n",
      " 39  adlp      3464 non-null   float64\n",
      " 40  adls      6238 non-null   float64\n",
      " 41  adlsc     9105 non-null   float64\n",
      "dtypes: float64(31), int64(4), object(7)\n",
      "memory usage: 2.9+ MB\n",
      "None\n"
     ]
    }
   ],
   "source": [
    "print(X.info())"
   ]
  },
  {
   "cell_type": "markdown",
   "metadata": {},
   "source": [
    "### Information about Label"
   ]
  },
  {
   "cell_type": "code",
   "execution_count": 5,
   "metadata": {},
   "outputs": [
    {
     "name": "stdout",
     "output_type": "stream",
     "text": [
      "<class 'pandas.core.frame.DataFrame'>\n",
      "RangeIndex: 9105 entries, 0 to 9104\n",
      "Data columns (total 3 columns):\n",
      " #   Column    Non-Null Count  Dtype \n",
      "---  ------    --------------  ----- \n",
      " 0   death     9105 non-null   int64 \n",
      " 1   hospdead  9105 non-null   int64 \n",
      " 2   sfdm2     7705 non-null   object\n",
      "dtypes: int64(2), object(1)\n",
      "memory usage: 213.5+ KB\n"
     ]
    }
   ],
   "source": [
    "y.info()"
   ]
  },
  {
   "cell_type": "markdown",
   "metadata": {},
   "source": [
    "### N-Unique values in Target Variables"
   ]
  },
  {
   "cell_type": "code",
   "execution_count": 6,
   "metadata": {},
   "outputs": [
    {
     "data": {
      "text/plain": [
       "death       2\n",
       "hospdead    2\n",
       "sfdm2       5\n",
       "dtype: int64"
      ]
     },
     "execution_count": 6,
     "metadata": {},
     "output_type": "execute_result"
    }
   ],
   "source": [
    "y.nunique()"
   ]
  },
  {
   "cell_type": "markdown",
   "metadata": {},
   "source": [
    "### Value counts in Target Variables"
   ]
  },
  {
   "cell_type": "code",
   "execution_count": 7,
   "metadata": {},
   "outputs": [
    {
     "data": {
      "text/plain": [
       "death  hospdead  sfdm2              \n",
       "1      1         <2 mo. follow-up       2261\n",
       "0      0         no(M2 and SIP pres)    1673\n",
       "1      0         no(M2 and SIP pres)    1385\n",
       "                 <2 mo. follow-up        862\n",
       "                 adl>=4 (>=5 if sur)     506\n",
       "0      0         adl>=4 (>=5 if sur)     358\n",
       "1      0         SIP>=30                 292\n",
       "0      0         SIP>=30                 268\n",
       "1      1         adl>=4 (>=5 if sur)      52\n",
       "       0         Coma or Intub            25\n",
       "0      0         Coma or Intub             9\n",
       "1      1         Coma or Intub             7\n",
       "                 SIP>=30                   4\n",
       "                 no(M2 and SIP pres)       3\n",
       "dtype: int64"
      ]
     },
     "execution_count": 7,
     "metadata": {},
     "output_type": "execute_result"
    }
   ],
   "source": [
    "y.value_counts()"
   ]
  },
  {
   "cell_type": "markdown",
   "metadata": {},
   "source": [
    "### Object columns in features"
   ]
  },
  {
   "cell_type": "code",
   "execution_count": 8,
   "metadata": {},
   "outputs": [
    {
     "data": {
      "text/plain": [
       "Index(['sex', 'dzgroup', 'dzclass', 'income', 'race', 'ca', 'dnr'], dtype='object')"
      ]
     },
     "execution_count": 8,
     "metadata": {},
     "output_type": "execute_result"
    }
   ],
   "source": [
    "X_categorical = X.select_dtypes('object').columns\n",
    "X_categorical"
   ]
  },
  {
   "cell_type": "markdown",
   "metadata": {},
   "source": [
    "### Object colummns in Label"
   ]
  },
  {
   "cell_type": "code",
   "execution_count": 9,
   "metadata": {},
   "outputs": [
    {
     "data": {
      "text/plain": [
       "Index(['sfdm2'], dtype='object')"
      ]
     },
     "execution_count": 9,
     "metadata": {},
     "output_type": "execute_result"
    }
   ],
   "source": [
    "y_categorical = y.select_dtypes('object').columns\n",
    "y_categorical"
   ]
  },
  {
   "cell_type": "markdown",
   "metadata": {},
   "source": [
    "### Correlation between Features and labels"
   ]
  },
  {
   "cell_type": "code",
   "execution_count": 10,
   "metadata": {},
   "outputs": [
    {
     "name": "stderr",
     "output_type": "stream",
     "text": [
      "C:\\Users\\Dhrumil Patel\\AppData\\Local\\Temp\\ipykernel_11928\\2214096009.py:1: FutureWarning: The default value of numeric_only in DataFrame.corr is deprecated. In a future version, it will default to False. Select only valid columns or specify the value of numeric_only to silence this warning.\n",
      "  df_corr = pd.concat([X,pd.get_dummies(y)],axis=1).corr()\n"
     ]
    },
    {
     "data": {
      "text/plain": [
       "death                        1.000000\n",
       "sfdm2_<2 mo. follow-up       0.494459\n",
       "hospdead                     0.404793\n",
       "age                          0.179230\n",
       "aps                          0.156866\n",
       "sps                          0.156346\n",
       "adlsc                        0.154760\n",
       "adls                         0.146124\n",
       "scoma                        0.135986\n",
       "avtisst                      0.117293\n",
       "adlp                         0.107614\n",
       "num.co                       0.068634\n",
       "hday                         0.063845\n",
       "dementia                     0.044391\n",
       "bili                         0.029658\n",
       "crea                         0.026705\n",
       "bun                          0.019307\n",
       "sfdm2_Coma or Intub          0.014349\n",
       "alb                          0.014215\n",
       "diabetes                     0.011940\n",
       "resp                         0.006331\n",
       "glucose                      0.002928\n",
       "pafi                         0.002258\n",
       "edu                         -0.002943\n",
       "hrt                         -0.003841\n",
       "urine                       -0.004537\n",
       "wblc                        -0.004825\n",
       "ph                          -0.008592\n",
       "charges                     -0.014402\n",
       "sod                         -0.018409\n",
       "totmcst                     -0.020465\n",
       "totcst                      -0.022615\n",
       "temp                        -0.029459\n",
       "meanbp                      -0.031753\n",
       "sfdm2_adl>=4 (>=5 if sur)   -0.051584\n",
       "sfdm2_SIP>=30               -0.086140\n",
       "dnrday                      -0.146655\n",
       "prg2m                       -0.306923\n",
       "surv2m                      -0.325049\n",
       "sfdm2_no(M2 and SIP pres)   -0.347542\n",
       "surv6m                      -0.378247\n",
       "prg6m                       -0.383796\n",
       "Name: death, dtype: float64"
      ]
     },
     "execution_count": 10,
     "metadata": {},
     "output_type": "execute_result"
    }
   ],
   "source": [
    "df_corr = pd.concat([X,pd.get_dummies(y)],axis=1).corr()\n",
    "df_corr['death'].sort_values(ascending=False)"
   ]
  },
  {
   "cell_type": "code",
   "execution_count": 11,
   "metadata": {},
   "outputs": [
    {
     "name": "stdout",
     "output_type": "stream",
     "text": [
      "   death  hospdead                sfdm2\n",
      "0      0         0                  NaN\n",
      "1      1         1     <2 mo. follow-up\n",
      "2      1         0     <2 mo. follow-up\n",
      "3      1         0  no(M2 and SIP pres)\n",
      "4      0         0  no(M2 and SIP pres)\n"
     ]
    }
   ],
   "source": [
    "print(y.head())"
   ]
  },
  {
   "cell_type": "markdown",
   "metadata": {},
   "source": [
    "### Finding Missing Values in Features and labels"
   ]
  },
  {
   "cell_type": "code",
   "execution_count": 12,
   "metadata": {},
   "outputs": [
    {
     "data": {
      "text/plain": [
       "age            0\n",
       "sex            0\n",
       "dzgroup        0\n",
       "dzclass        0\n",
       "num.co         0\n",
       "edu         1634\n",
       "income      2982\n",
       "scoma          1\n",
       "charges      172\n",
       "totcst       888\n",
       "totmcst     3475\n",
       "avtisst       82\n",
       "race          42\n",
       "sps            1\n",
       "aps            1\n",
       "surv2m         1\n",
       "surv6m         1\n",
       "hday           0\n",
       "diabetes       0\n",
       "dementia       0\n",
       "ca             0\n",
       "prg2m       1649\n",
       "prg6m       1633\n",
       "dnr           30\n",
       "dnrday        30\n",
       "meanbp         1\n",
       "wblc         212\n",
       "hrt            1\n",
       "resp           1\n",
       "temp           1\n",
       "pafi        2325\n",
       "alb         3372\n",
       "bili        2601\n",
       "crea          67\n",
       "sod            1\n",
       "ph          2284\n",
       "glucose     4500\n",
       "bun         4352\n",
       "urine       4862\n",
       "adlp        5641\n",
       "adls        2867\n",
       "adlsc          0\n",
       "dtype: int64"
      ]
     },
     "execution_count": 12,
     "metadata": {},
     "output_type": "execute_result"
    }
   ],
   "source": [
    "X.isnull().sum()"
   ]
  },
  {
   "cell_type": "code",
   "execution_count": 13,
   "metadata": {},
   "outputs": [
    {
     "data": {
      "text/plain": [
       "death          0\n",
       "hospdead       0\n",
       "sfdm2       1400\n",
       "dtype: int64"
      ]
     },
     "execution_count": 13,
     "metadata": {},
     "output_type": "execute_result"
    }
   ],
   "source": [
    "y.isnull().sum()"
   ]
  },
  {
   "cell_type": "markdown",
   "metadata": {},
   "source": [
    "## Data Preprocessing\n",
    "- Data Encoding\n",
    "- Finding Missing Values\n",
    "- Checking for the Outliers\n",
    "- Removing Outliers (If applicable)\n",
    "- Standardize the Data\n",
    "- Initialize final Features and labels\n",
    "- Train test split"
   ]
  },
  {
   "cell_type": "markdown",
   "metadata": {},
   "source": [
    "### Data Encoding of Features"
   ]
  },
  {
   "cell_type": "code",
   "execution_count": 14,
   "metadata": {},
   "outputs": [],
   "source": [
    "encoder = OrdinalEncoder()\n",
    "X[X_categorical] = encoder.fit_transform(X[X_categorical])\n",
    "y[y_categorical] = encoder.fit_transform(y[y_categorical])"
   ]
  },
  {
   "cell_type": "markdown",
   "metadata": {},
   "source": [
    "### Checking for the outliers"
   ]
  },
  {
   "cell_type": "code",
   "execution_count": 15,
   "metadata": {},
   "outputs": [
    {
     "data": {
      "image/png": "[encoded data removed]",
      "text/plain": [
       "<Figure size 2000x500 with 1 Axes>"
      ]
     },
     "metadata": {},
     "output_type": "display_data"
    }
   ],
   "source": [
    "plt.figure(figsize=(20,5))\n",
    "X.boxplot()\n",
    "plt.show()"
   ]
  },
  {
   "cell_type": "markdown",
   "metadata": {},
   "source": [
    "### Removing Outliers"
   ]
  },
  {
   "cell_type": "code",
   "execution_count": 16,
   "metadata": {},
   "outputs": [
    {
     "data": {
      "image/png": "[encoded data removed]",
      "text/plain": [
       "<Figure size 2000x500 with 1 Axes>"
      ]
     },
     "metadata": {},
     "output_type": "display_data"
    }
   ],
   "source": [
    "Q1 = X.quantile(0.25)\n",
    "Q3 = X.quantile(0.75)\n",
    "IQR = Q3 - Q1\n",
    "\n",
    "lower_bound = Q1 - 1.5 * IQR\n",
    "upper_bound = Q3 + 1.5 * IQR\n",
    "\n",
    "X_noOutliers = X[(X >= lower_bound) & (X <= upper_bound)]\n",
    "plt.figure(figsize=(20,5))\n",
    "X_noOutliers.boxplot()\n",
    "plt.show()"
   ]
  },
  {
   "cell_type": "markdown",
   "metadata": {},
   "source": [
    "### Finding Missing Values"
   ]
  },
  {
   "cell_type": "code",
   "execution_count": 17,
   "metadata": {},
   "outputs": [],
   "source": [
    "imputer = SimpleImputer()\n",
    "X_fillNaN = imputer.fit_transform(X_noOutliers)\n",
    "y_fillNaN = imputer.fit_transform(y)\n",
    "\n",
    "X_fillNaN = pd.DataFrame(X_fillNaN,columns=X.columns)\n",
    "y_fillNaN = pd.DataFrame(y_fillNaN,columns=y.columns)"
   ]
  },
  {
   "cell_type": "markdown",
   "metadata": {},
   "source": [
    "### Standardize the data"
   ]
  },
  {
   "cell_type": "code",
   "execution_count": 23,
   "metadata": {},
   "outputs": [],
   "source": [
    "scaler = StandardScaler()\n",
    "X_scaled = scaler.fit_transform(X_fillNaN)"
   ]
  },
  {
   "cell_type": "markdown",
   "metadata": {},
   "source": [
    "### Final Features and Labels"
   ]
  },
  {
   "cell_type": "code",
   "execution_count": 26,
   "metadata": {},
   "outputs": [
    {
     "name": "stdout",
     "output_type": "stream",
     "text": [
      "(9105, 42)\n",
      "(9105, 3)\n"
     ]
    }
   ],
   "source": [
    "final_X = pd.DataFrame(X_scaled,columns=X.columns)\n",
    "final_y = y_fillNaN.copy()\n",
    "print(final_X.shape)\n",
    "print(final_y.shape)\n"
   ]
  },
  {
   "cell_type": "markdown",
   "metadata": {},
   "source": [
    "### Train test split"
   ]
  },
  {
   "cell_type": "code",
   "execution_count": null,
   "metadata": {},
   "outputs": [],
   "source": [
    "X_train, X_test, y_train, y_test = train_test_split(final_X,final_y,test_size=0.2,random_state=42)\n",
    "print(X_train.shape,X_test.shape)\n",
    "print(y_train.shape,y_test.shape)"
   ]
  }
 ],
 "metadata": {
  "kernelspec": {
   "display_name": "Python 3",
   "language": "python",
   "name": "python3"
  },
  "language_info": {
   "codemirror_mode": {
    "name": "ipython",
    "version": 3
   },
   "file_extension": ".py",
   "mimetype": "text/x-python",
   "name": "python",
   "nbconvert_exporter": "python",
   "pygments_lexer": "ipython3",
   "version": "3.11.4"
  }
 },
 "nbformat": 4,
 "nbformat_minor": 2
}
