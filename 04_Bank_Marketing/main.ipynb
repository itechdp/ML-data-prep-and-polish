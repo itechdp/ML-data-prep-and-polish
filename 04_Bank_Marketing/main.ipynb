{
 "cells": [
  {
   "cell_type": "markdown",
   "metadata": {},
   "source": [
    "# Bank Marketing Dataset"
   ]
  },
  {
   "cell_type": "markdown",
   "metadata": {},
   "source": [
    "### Importing Packages"
   ]
  },
  {
   "cell_type": "code",
   "execution_count": 24,
   "metadata": {},
   "outputs": [],
   "source": [
    "import pandas as pd\n",
    "from sklearn.preprocessing import OrdinalEncoder, MinMaxScaler, LabelEncoder\n",
    "from sklearn.impute import SimpleImputer\n",
    "from imblearn.over_sampling import RandomOverSampler\n",
    "import matplotlib.pyplot as plt\n",
    "import seaborn as sns"
   ]
  },
  {
   "cell_type": "markdown",
   "metadata": {},
   "source": [
    "### Importing Dataset"
   ]
  },
  {
   "cell_type": "code",
   "execution_count": 25,
   "metadata": {},
   "outputs": [
    {
     "data": {
      "text/html": [
       "<div>\n",
       "<style scoped>\n",
       "    .dataframe tbody tr th:only-of-type {\n",
       "        vertical-align: middle;\n",
       "    }\n",
       "\n",
       "    .dataframe tbody tr th {\n",
       "        vertical-align: top;\n",
       "    }\n",
       "\n",
       "    .dataframe thead th {\n",
       "        text-align: right;\n",
       "    }\n",
       "</style>\n",
       "<table border=\"1\" class=\"dataframe\">\n",
       "  <thead>\n",
       "    <tr style=\"text-align: right;\">\n",
       "      <th></th>\n",
       "      <th>age</th>\n",
       "      <th>job</th>\n",
       "      <th>marital</th>\n",
       "      <th>education</th>\n",
       "      <th>default</th>\n",
       "      <th>balance</th>\n",
       "      <th>housing</th>\n",
       "      <th>loan</th>\n",
       "      <th>contact</th>\n",
       "      <th>day</th>\n",
       "      <th>month</th>\n",
       "      <th>duration</th>\n",
       "      <th>campaign</th>\n",
       "      <th>pdays</th>\n",
       "      <th>previous</th>\n",
       "      <th>poutcome</th>\n",
       "      <th>y</th>\n",
       "    </tr>\n",
       "  </thead>\n",
       "  <tbody>\n",
       "    <tr>\n",
       "      <th>0</th>\n",
       "      <td>30</td>\n",
       "      <td>unemployed</td>\n",
       "      <td>married</td>\n",
       "      <td>primary</td>\n",
       "      <td>no</td>\n",
       "      <td>1787</td>\n",
       "      <td>no</td>\n",
       "      <td>no</td>\n",
       "      <td>cellular</td>\n",
       "      <td>19</td>\n",
       "      <td>oct</td>\n",
       "      <td>79</td>\n",
       "      <td>1</td>\n",
       "      <td>-1</td>\n",
       "      <td>0</td>\n",
       "      <td>unknown</td>\n",
       "      <td>no</td>\n",
       "    </tr>\n",
       "    <tr>\n",
       "      <th>1</th>\n",
       "      <td>33</td>\n",
       "      <td>services</td>\n",
       "      <td>married</td>\n",
       "      <td>secondary</td>\n",
       "      <td>no</td>\n",
       "      <td>4789</td>\n",
       "      <td>yes</td>\n",
       "      <td>yes</td>\n",
       "      <td>cellular</td>\n",
       "      <td>11</td>\n",
       "      <td>may</td>\n",
       "      <td>220</td>\n",
       "      <td>1</td>\n",
       "      <td>339</td>\n",
       "      <td>4</td>\n",
       "      <td>failure</td>\n",
       "      <td>no</td>\n",
       "    </tr>\n",
       "    <tr>\n",
       "      <th>2</th>\n",
       "      <td>35</td>\n",
       "      <td>management</td>\n",
       "      <td>single</td>\n",
       "      <td>tertiary</td>\n",
       "      <td>no</td>\n",
       "      <td>1350</td>\n",
       "      <td>yes</td>\n",
       "      <td>no</td>\n",
       "      <td>cellular</td>\n",
       "      <td>16</td>\n",
       "      <td>apr</td>\n",
       "      <td>185</td>\n",
       "      <td>1</td>\n",
       "      <td>330</td>\n",
       "      <td>1</td>\n",
       "      <td>failure</td>\n",
       "      <td>no</td>\n",
       "    </tr>\n",
       "    <tr>\n",
       "      <th>3</th>\n",
       "      <td>30</td>\n",
       "      <td>management</td>\n",
       "      <td>married</td>\n",
       "      <td>tertiary</td>\n",
       "      <td>no</td>\n",
       "      <td>1476</td>\n",
       "      <td>yes</td>\n",
       "      <td>yes</td>\n",
       "      <td>unknown</td>\n",
       "      <td>3</td>\n",
       "      <td>jun</td>\n",
       "      <td>199</td>\n",
       "      <td>4</td>\n",
       "      <td>-1</td>\n",
       "      <td>0</td>\n",
       "      <td>unknown</td>\n",
       "      <td>no</td>\n",
       "    </tr>\n",
       "    <tr>\n",
       "      <th>4</th>\n",
       "      <td>59</td>\n",
       "      <td>blue-collar</td>\n",
       "      <td>married</td>\n",
       "      <td>secondary</td>\n",
       "      <td>no</td>\n",
       "      <td>0</td>\n",
       "      <td>yes</td>\n",
       "      <td>no</td>\n",
       "      <td>unknown</td>\n",
       "      <td>5</td>\n",
       "      <td>may</td>\n",
       "      <td>226</td>\n",
       "      <td>1</td>\n",
       "      <td>-1</td>\n",
       "      <td>0</td>\n",
       "      <td>unknown</td>\n",
       "      <td>no</td>\n",
       "    </tr>\n",
       "  </tbody>\n",
       "</table>\n",
       "</div>"
      ],
      "text/plain": [
       "   age          job  marital  education default  balance housing loan  \\\n",
       "0   30   unemployed  married    primary      no     1787      no   no   \n",
       "1   33     services  married  secondary      no     4789     yes  yes   \n",
       "2   35   management   single   tertiary      no     1350     yes   no   \n",
       "3   30   management  married   tertiary      no     1476     yes  yes   \n",
       "4   59  blue-collar  married  secondary      no        0     yes   no   \n",
       "\n",
       "    contact  day month  duration  campaign  pdays  previous poutcome   y  \n",
       "0  cellular   19   oct        79         1     -1         0  unknown  no  \n",
       "1  cellular   11   may       220         1    339         4  failure  no  \n",
       "2  cellular   16   apr       185         1    330         1  failure  no  \n",
       "3   unknown    3   jun       199         4     -1         0  unknown  no  \n",
       "4   unknown    5   may       226         1     -1         0  unknown  no  "
      ]
     },
     "execution_count": 25,
     "metadata": {},
     "output_type": "execute_result"
    }
   ],
   "source": [
    "df = pd.read_csv('bank.csv',delimiter=';')\n",
    "df.head()\n"
   ]
  },
  {
   "cell_type": "markdown",
   "metadata": {},
   "source": [
    "### Information about Attributes"
   ]
  },
  {
   "cell_type": "code",
   "execution_count": 26,
   "metadata": {},
   "outputs": [
    {
     "name": "stdout",
     "output_type": "stream",
     "text": [
      "<class 'pandas.core.frame.DataFrame'>\n",
      "RangeIndex: 4521 entries, 0 to 4520\n",
      "Data columns (total 17 columns):\n",
      " #   Column     Non-Null Count  Dtype \n",
      "---  ------     --------------  ----- \n",
      " 0   age        4521 non-null   int64 \n",
      " 1   job        4521 non-null   object\n",
      " 2   marital    4521 non-null   object\n",
      " 3   education  4521 non-null   object\n",
      " 4   default    4521 non-null   object\n",
      " 5   balance    4521 non-null   int64 \n",
      " 6   housing    4521 non-null   object\n",
      " 7   loan       4521 non-null   object\n",
      " 8   contact    4521 non-null   object\n",
      " 9   day        4521 non-null   int64 \n",
      " 10  month      4521 non-null   object\n",
      " 11  duration   4521 non-null   int64 \n",
      " 12  campaign   4521 non-null   int64 \n",
      " 13  pdays      4521 non-null   int64 \n",
      " 14  previous   4521 non-null   int64 \n",
      " 15  poutcome   4521 non-null   object\n",
      " 16  y          4521 non-null   object\n",
      "dtypes: int64(7), object(10)\n",
      "memory usage: 600.6+ KB\n",
      "None\n"
     ]
    }
   ],
   "source": [
    "df_info = df.info()\n",
    "print(df_info)"
   ]
  },
  {
   "cell_type": "markdown",
   "metadata": {},
   "source": [
    "### Describing Dataset\n",
    "- We are checking for Estimate of location and variablity"
   ]
  },
  {
   "cell_type": "code",
   "execution_count": 27,
   "metadata": {},
   "outputs": [
    {
     "name": "stdout",
     "output_type": "stream",
     "text": [
      "               age       balance          day     duration     campaign  \\\n",
      "count  4521.000000   4521.000000  4521.000000  4521.000000  4521.000000   \n",
      "mean     41.170095   1422.657819    15.915284   263.961292     2.793630   \n",
      "std      10.576211   3009.638142     8.247667   259.856633     3.109807   \n",
      "min      19.000000  -3313.000000     1.000000     4.000000     1.000000   \n",
      "25%      33.000000     69.000000     9.000000   104.000000     1.000000   \n",
      "50%      39.000000    444.000000    16.000000   185.000000     2.000000   \n",
      "75%      49.000000   1480.000000    21.000000   329.000000     3.000000   \n",
      "max      87.000000  71188.000000    31.000000  3025.000000    50.000000   \n",
      "\n",
      "             pdays     previous  \n",
      "count  4521.000000  4521.000000  \n",
      "mean     39.766645     0.542579  \n",
      "std     100.121124     1.693562  \n",
      "min      -1.000000     0.000000  \n",
      "25%      -1.000000     0.000000  \n",
      "50%      -1.000000     0.000000  \n",
      "75%      -1.000000     0.000000  \n",
      "max     871.000000    25.000000  \n"
     ]
    }
   ],
   "source": [
    "df_describe = df.describe()\n",
    "print(df_describe)"
   ]
  },
  {
   "cell_type": "markdown",
   "metadata": {},
   "source": [
    "### Splitting into Features and Label"
   ]
  },
  {
   "cell_type": "code",
   "execution_count": 28,
   "metadata": {},
   "outputs": [
    {
     "name": "stdout",
     "output_type": "stream",
     "text": [
      "Index(['age', 'job', 'marital', 'education', 'default', 'balance', 'housing',\n",
      "       'loan', 'contact', 'day', 'month', 'duration', 'campaign', 'pdays',\n",
      "       'previous', 'poutcome'],\n",
      "      dtype='object')\n",
      "Index(['y'], dtype='object')\n"
     ]
    }
   ],
   "source": [
    "df_features = df.drop('y',axis=1)\n",
    "df_label = df[['y']]\n",
    "print(df_features.columns)\n",
    "print(df_label.columns)"
   ]
  },
  {
   "cell_type": "markdown",
   "metadata": {},
   "source": [
    "### Information about Feature Columns\n",
    "- As shown below, We will encode column who has Dtype as Object."
   ]
  },
  {
   "cell_type": "code",
   "execution_count": 29,
   "metadata": {},
   "outputs": [
    {
     "name": "stdout",
     "output_type": "stream",
     "text": [
      "<class 'pandas.core.frame.DataFrame'>\n",
      "RangeIndex: 4521 entries, 0 to 4520\n",
      "Data columns (total 16 columns):\n",
      " #   Column     Non-Null Count  Dtype \n",
      "---  ------     --------------  ----- \n",
      " 0   age        4521 non-null   int64 \n",
      " 1   job        4521 non-null   object\n",
      " 2   marital    4521 non-null   object\n",
      " 3   education  4521 non-null   object\n",
      " 4   default    4521 non-null   object\n",
      " 5   balance    4521 non-null   int64 \n",
      " 6   housing    4521 non-null   object\n",
      " 7   loan       4521 non-null   object\n",
      " 8   contact    4521 non-null   object\n",
      " 9   day        4521 non-null   int64 \n",
      " 10  month      4521 non-null   object\n",
      " 11  duration   4521 non-null   int64 \n",
      " 12  campaign   4521 non-null   int64 \n",
      " 13  pdays      4521 non-null   int64 \n",
      " 14  previous   4521 non-null   int64 \n",
      " 15  poutcome   4521 non-null   object\n",
      "dtypes: int64(7), object(9)\n",
      "memory usage: 565.3+ KB\n",
      "None\n"
     ]
    }
   ],
   "source": [
    "print(df_features.info())"
   ]
  },
  {
   "cell_type": "markdown",
   "metadata": {},
   "source": [
    "### Checking for N-Unique value in Features"
   ]
  },
  {
   "cell_type": "code",
   "execution_count": 30,
   "metadata": {},
   "outputs": [
    {
     "name": "stdout",
     "output_type": "stream",
     "text": [
      "Index(['job', 'marital', 'education', 'default', 'housing', 'loan', 'contact',\n",
      "       'month', 'poutcome'],\n",
      "      dtype='object')\n",
      "job          12\n",
      "marital       3\n",
      "education     4\n",
      "default       2\n",
      "housing       2\n",
      "loan          2\n",
      "contact       3\n",
      "month        12\n",
      "poutcome      4\n",
      "dtype: int64\n",
      "job          marital   education  default  housing  loan  contact    month  poutcome\n",
      "blue-collar  married   secondary  no       yes      no    unknown    may    unknown     89\n",
      "management   married   tertiary   no       no       no    cellular   aug    unknown     68\n",
      "blue-collar  married   primary    no       yes      no    unknown    may    unknown     61\n",
      "technician   married   secondary  no       no       no    cellular   aug    unknown     44\n",
      "                                           yes      no    unknown    may    unknown     40\n",
      "                                                                                        ..\n",
      "management   divorced  tertiary   yes      no       yes   cellular   nov    unknown      1\n",
      "                                  no       yes      yes   unknown    nov    other        1\n",
      "                                                          telephone  nov    unknown      1\n",
      "                                                          cellular   may    failure      1\n",
      "unknown      single    unknown    no       no       no    telephone  jan    unknown      1\n",
      "Length: 1975, dtype: int64\n"
     ]
    }
   ],
   "source": [
    "df_features_categorical = df_features.select_dtypes(include='object').columns\n",
    "print(df_features_categorical) # Names of categorical Features columns.\n",
    "print(df_features[df_features_categorical].nunique()) # Checking for N Number of unique values in only categorical columns.\n",
    "print(df_features[df_features_categorical].value_counts()) # Acessing each categorical columns values."
   ]
  },
  {
   "cell_type": "markdown",
   "metadata": {},
   "source": [
    "### Checking for N-Unique value in Label"
   ]
  },
  {
   "cell_type": "code",
   "execution_count": 31,
   "metadata": {},
   "outputs": [
    {
     "name": "stdout",
     "output_type": "stream",
     "text": [
      "2\n",
      "no     4000\n",
      "yes     521\n",
      "Name: y, dtype: int64\n"
     ]
    }
   ],
   "source": [
    "print(df_label['y'].nunique()) # Checking for N Number of unique values in only categorical columns.\n",
    "print(df_label['y'].value_counts()) # Acessing each categorical columns values."
   ]
  },
  {
   "cell_type": "markdown",
   "metadata": {},
   "source": [
    "### Performing Encoding on Categorical Feature columns\n",
    "- Now as you can see in below output, all those columns who had Dtype as Object now converted as float64"
   ]
  },
  {
   "cell_type": "code",
   "execution_count": 32,
   "metadata": {},
   "outputs": [
    {
     "name": "stdout",
     "output_type": "stream",
     "text": [
      "<class 'pandas.core.frame.DataFrame'>\n",
      "RangeIndex: 4521 entries, 0 to 4520\n",
      "Data columns (total 16 columns):\n",
      " #   Column     Non-Null Count  Dtype  \n",
      "---  ------     --------------  -----  \n",
      " 0   age        4521 non-null   int64  \n",
      " 1   job        4521 non-null   float64\n",
      " 2   marital    4521 non-null   float64\n",
      " 3   education  4521 non-null   float64\n",
      " 4   default    4521 non-null   float64\n",
      " 5   balance    4521 non-null   int64  \n",
      " 6   housing    4521 non-null   float64\n",
      " 7   loan       4521 non-null   float64\n",
      " 8   contact    4521 non-null   float64\n",
      " 9   day        4521 non-null   int64  \n",
      " 10  month      4521 non-null   float64\n",
      " 11  duration   4521 non-null   int64  \n",
      " 12  campaign   4521 non-null   int64  \n",
      " 13  pdays      4521 non-null   int64  \n",
      " 14  previous   4521 non-null   int64  \n",
      " 15  poutcome   4521 non-null   float64\n",
      "dtypes: float64(9), int64(7)\n",
      "memory usage: 565.3 KB\n"
     ]
    }
   ],
   "source": [
    "ordinal_encoder = OrdinalEncoder()\n",
    "df_features[df_features_categorical] = ordinal_encoder.fit_transform(df_features[df_features_categorical])\n",
    "df_features.info()"
   ]
  },
  {
   "cell_type": "markdown",
   "metadata": {},
   "source": [
    "### Performing Encoding on Categorical Label Column"
   ]
  },
  {
   "cell_type": "code",
   "execution_count": 33,
   "metadata": {},
   "outputs": [
    {
     "name": "stdout",
     "output_type": "stream",
     "text": [
      "<class 'pandas.core.frame.DataFrame'>\n",
      "RangeIndex: 4521 entries, 0 to 4520\n",
      "Data columns (total 1 columns):\n",
      " #   Column  Non-Null Count  Dtype\n",
      "---  ------  --------------  -----\n",
      " 0   y       4521 non-null   int32\n",
      "dtypes: int32(1)\n",
      "memory usage: 17.8 KB\n",
      "None\n",
      "2\n",
      "0    4000\n",
      "1     521\n",
      "Name: y, dtype: int64\n"
     ]
    }
   ],
   "source": [
    "label_encoder = LabelEncoder()\n",
    "df_label_encoded = label_encoder.fit_transform(df_label['y'])\n",
    "df_label_encoded = pd.DataFrame(df_label_encoded,columns=df_label.columns)\n",
    "print(df_label_encoded.info())\n",
    "print(df_label_encoded['y'].nunique()) # Checking for N Number of unique values in only categorical columns.\n",
    "print(df_label_encoded['y'].value_counts()) # Acessing each categorical columns values."
   ]
  },
  {
   "cell_type": "markdown",
   "metadata": {},
   "source": [
    "### Handling Imbalanced Data\n",
    "- By checking unique values of Label, We got Category No:4000 (instances) and Category Yes:521 (instances) which can leads us to wrong prediction while we will be building machien learning model. So using RandomSampling technique we are trying to balance the data."
   ]
  },
  {
   "cell_type": "code",
   "execution_count": 34,
   "metadata": {},
   "outputs": [
    {
     "name": "stdout",
     "output_type": "stream",
     "text": [
      "4521 4521\n",
      "8000 8000\n",
      "8000 8000\n"
     ]
    }
   ],
   "source": [
    "print(len(df_features),len(df_label_encoded))\n",
    "over_sampler = RandomOverSampler(random_state=42)\n",
    "X_resampled,y_resampled = over_sampler.fit_resample(X=df_features,y=df_label_encoded)\n",
    "print(len(X_resampled),len(y_resampled))\n",
    "df_features_sampled = X_resampled\n",
    "df_label_sampled = y_resampled\n",
    "print(len(df_features_sampled),len(df_label_sampled))"
   ]
  },
  {
   "cell_type": "markdown",
   "metadata": {},
   "source": [
    "### Checking for outliers"
   ]
  },
  {
   "cell_type": "code",
   "execution_count": 35,
   "metadata": {},
   "outputs": [
    {
     "data": {
      "text/plain": [
       "<AxesSubplot: >"
      ]
     },
     "execution_count": 35,
     "metadata": {},
     "output_type": "execute_result"
    },
    {
     "data": {
      "image/png": "[encoded data removed]",
      "text/plain": [
       "<Figure size 1500x500 with 1 Axes>"
      ]
     },
     "metadata": {},
     "output_type": "display_data"
    }
   ],
   "source": [
    "plt.figure(figsize=(15,5))\n",
    "df_features_sampled.boxplot()"
   ]
  },
  {
   "cell_type": "markdown",
   "metadata": {},
   "source": [
    "### Removing outliers"
   ]
  },
  {
   "cell_type": "code",
   "execution_count": 36,
   "metadata": {},
   "outputs": [
    {
     "name": "stdout",
     "output_type": "stream",
     "text": [
      "    age   job  marital  education  default  balance  housing  loan  contact  \\\n",
      "0  30.0  10.0      1.0        NaN      0.0   1787.0      0.0   0.0      0.0   \n",
      "1  33.0   7.0      1.0        1.0      0.0      NaN      1.0   NaN      0.0   \n",
      "2  35.0   4.0      2.0        2.0      0.0   1350.0      1.0   0.0      0.0   \n",
      "3  30.0   4.0      1.0        2.0      0.0   1476.0      1.0   NaN      NaN   \n",
      "4   NaN   1.0      1.0        1.0      0.0      0.0      1.0   0.0      NaN   \n",
      "\n",
      "    day  month  duration  campaign  pdays  previous  poutcome  \n",
      "0  19.0   10.0      79.0       1.0   -1.0       0.0       3.0  \n",
      "1  11.0    8.0     220.0       1.0    NaN       NaN       NaN  \n",
      "2  16.0    NaN     185.0       1.0    NaN       1.0       NaN  \n",
      "3   3.0    6.0     199.0       4.0   -1.0       0.0       3.0  \n",
      "4   5.0    8.0     226.0       1.0   -1.0       0.0       3.0  \n"
     ]
    }
   ],
   "source": [
    "Q1 = df_features_sampled.quantile(0.25)\n",
    "Q3 = df_features_sampled.quantile(0.75)\n",
    "IQR = Q3 - Q1\n",
    "\n",
    "lower_bound = Q1 - 0.5 * IQR\n",
    "upper_bound = Q3 + 0.5 * IQR\n",
    "\n",
    "df_features_no_outliers = df_features_sampled[(df_features_sampled >= lower_bound) & (df_features_sampled <= upper_bound)]\n",
    "print(df_features_no_outliers.head())"
   ]
  },
  {
   "cell_type": "markdown",
   "metadata": {},
   "source": [
    "### Checking for Outliers (After Removed)"
   ]
  },
  {
   "cell_type": "code",
   "execution_count": 37,
   "metadata": {},
   "outputs": [
    {
     "data": {
      "text/plain": [
       "<AxesSubplot: >"
      ]
     },
     "execution_count": 37,
     "metadata": {},
     "output_type": "execute_result"
    },
    {
     "data": {
      "image/png": "[encoded data removed]",
      "text/plain": [
       "<Figure size 1500x500 with 1 Axes>"
      ]
     },
     "metadata": {},
     "output_type": "display_data"
    }
   ],
   "source": [
    "plt.figure(figsize=(15,5))\n",
    "df_features_no_outliers.boxplot()"
   ]
  },
  {
   "cell_type": "markdown",
   "metadata": {},
   "source": [
    "### Handling Missing Values\n",
    "- Finding Missing Values presented inside the Feature columns"
   ]
  },
  {
   "cell_type": "code",
   "execution_count": 38,
   "metadata": {},
   "outputs": [],
   "source": [
    "imputer = SimpleImputer()\n",
    "df_features_no_missingVal = imputer.fit_transform(df_features_no_outliers)\n",
    "df_features_no_missingVal = pd.DataFrame(df_features_no_missingVal,columns=df_features.columns)"
   ]
  },
  {
   "cell_type": "markdown",
   "metadata": {},
   "source": [
    "### Normalizing the Dataset"
   ]
  },
  {
   "cell_type": "code",
   "execution_count": 39,
   "metadata": {},
   "outputs": [
    {
     "name": "stdout",
     "output_type": "stream",
     "text": [
      "<class 'pandas.core.frame.DataFrame'>\n",
      "RangeIndex: 8000 entries, 0 to 7999\n",
      "Data columns (total 16 columns):\n",
      " #   Column     Non-Null Count  Dtype  \n",
      "---  ------     --------------  -----  \n",
      " 0   age        8000 non-null   float64\n",
      " 1   job        8000 non-null   float64\n",
      " 2   marital    8000 non-null   float64\n",
      " 3   education  8000 non-null   float64\n",
      " 4   default    8000 non-null   float64\n",
      " 5   balance    8000 non-null   float64\n",
      " 6   housing    8000 non-null   float64\n",
      " 7   loan       8000 non-null   float64\n",
      " 8   contact    8000 non-null   float64\n",
      " 9   day        8000 non-null   float64\n",
      " 10  month      8000 non-null   float64\n",
      " 11  duration   8000 non-null   float64\n",
      " 12  campaign   8000 non-null   float64\n",
      " 13  pdays      8000 non-null   float64\n",
      " 14  previous   8000 non-null   float64\n",
      " 15  poutcome   8000 non-null   float64\n",
      "dtypes: float64(16)\n",
      "memory usage: 1000.1 KB\n",
      "None\n",
      "<class 'pandas.core.frame.DataFrame'>\n",
      "RangeIndex: 8000 entries, 0 to 7999\n",
      "Data columns (total 1 columns):\n",
      " #   Column  Non-Null Count  Dtype\n",
      "---  ------  --------------  -----\n",
      " 0   y       8000 non-null   int32\n",
      "dtypes: int32(1)\n",
      "memory usage: 31.4 KB\n",
      "None\n"
     ]
    }
   ],
   "source": [
    "minMax_scaler = MinMaxScaler()\n",
    "df_features_scaled = minMax_scaler.fit_transform(df_features_no_missingVal)\n",
    "df_features_scaled = pd.DataFrame(df_features_scaled,columns=df_features.columns)\n",
    "df_final_features = df_features_scaled\n",
    "df_final_label = df_label_sampled\n",
    "print(df_final_features.info())\n",
    "print(df_final_label.info())"
   ]
  },
  {
   "cell_type": "markdown",
   "metadata": {},
   "source": [
    "### Checking for correlation on Features and labels\n",
    "- After processing correlation we are getting unusual results, changes would be made."
   ]
  },
  {
   "cell_type": "code",
   "execution_count": 40,
   "metadata": {},
   "outputs": [],
   "source": [
    "# df_final_features.columns = df_features.columns\n",
    "# df_final_label.columns = df_label.columns\n",
    "# plt.figure(figsize=(15,20))\n",
    "# df_correlations = pd.concat([df_final_features,df_final_label],axis=1)\n",
    "# df_correlations_Plot = sns.heatmap(df_correlations,annot=True)\n",
    "# plt.show()"
   ]
  },
  {
   "cell_type": "markdown",
   "metadata": {},
   "source": [
    "`NOTE:` Apply further preprocessing based on your requirements. visit more: www.github.com/itechdp"
   ]
  }
 ],
 "metadata": {
  "kernelspec": {
   "display_name": "Python 3",
   "language": "python",
   "name": "python3"
  },
  "language_info": {
   "codemirror_mode": {
    "name": "ipython",
    "version": 3
   },
   "file_extension": ".py",
   "mimetype": "text/x-python",
   "name": "python",
   "nbconvert_exporter": "python",
   "pygments_lexer": "ipython3",
   "version": "3.11.4"
  }
 },
 "nbformat": 4,
 "nbformat_minor": 2
}
