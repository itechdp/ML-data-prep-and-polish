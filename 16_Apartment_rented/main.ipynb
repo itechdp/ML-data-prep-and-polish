{
 "cells": [
  {
   "cell_type": "markdown",
   "metadata": {},
   "source": [
    "# Apartment for Rent classified\n",
    "- Dataset Information\n",
    "\n",
    "- The dataset contains of 10'000 or 100'000 rows and of 22 columns The data has been cleaned in the way that \n",
    "column price and square_feet never is empty but the dataset is saved as it was created.\n",
    "\n",
    "- Can be used for different machine learning tasks such as clustering, classification and also regression for the squares feet column"
   ]
  },
  {
   "cell_type": "markdown",
   "metadata": {},
   "source": [
    "### Importing Packages"
   ]
  },
  {
   "cell_type": "code",
   "execution_count": 32,
   "metadata": {},
   "outputs": [],
   "source": [
    "import pandas as pd\n",
    "import matplotlib.pyplot as plt\n",
    "import seaborn as sns\n",
    "from sklearn.impute import SimpleImputer\n",
    "from sklearn.linear_model import LinearRegression\n",
    "from sklearn.model_selection import train_test_split\n",
    "from sklearn.preprocessing import OrdinalEncoder\n",
    "from sklearn.preprocessing import StandardScaler"
   ]
  },
  {
   "cell_type": "markdown",
   "metadata": {},
   "source": [
    "### Loading Dataset"
   ]
  },
  {
   "cell_type": "code",
   "execution_count": 4,
   "metadata": {},
   "outputs": [
    {
     "data": {
      "text/html": [
       "<div>\n",
       "<style scoped>\n",
       "    .dataframe tbody tr th:only-of-type {\n",
       "        vertical-align: middle;\n",
       "    }\n",
       "\n",
       "    .dataframe tbody tr th {\n",
       "        vertical-align: top;\n",
       "    }\n",
       "\n",
       "    .dataframe thead th {\n",
       "        text-align: right;\n",
       "    }\n",
       "</style>\n",
       "<table border=\"1\" class=\"dataframe\">\n",
       "  <thead>\n",
       "    <tr style=\"text-align: right;\">\n",
       "      <th></th>\n",
       "      <th>id</th>\n",
       "      <th>category</th>\n",
       "      <th>title</th>\n",
       "      <th>body</th>\n",
       "      <th>amenities</th>\n",
       "      <th>bathrooms</th>\n",
       "      <th>bedrooms</th>\n",
       "      <th>currency</th>\n",
       "      <th>fee</th>\n",
       "      <th>has_photo</th>\n",
       "      <th>...</th>\n",
       "      <th>price_display</th>\n",
       "      <th>price_type</th>\n",
       "      <th>square_feet</th>\n",
       "      <th>address</th>\n",
       "      <th>cityname</th>\n",
       "      <th>state</th>\n",
       "      <th>latitude</th>\n",
       "      <th>longitude</th>\n",
       "      <th>source</th>\n",
       "      <th>time</th>\n",
       "    </tr>\n",
       "  </thead>\n",
       "  <tbody>\n",
       "    <tr>\n",
       "      <th>0</th>\n",
       "      <td>5668626895</td>\n",
       "      <td>housing/rent/apartment</td>\n",
       "      <td>Studio apartment 2nd St NE, Uhland Terrace NE,...</td>\n",
       "      <td>This unit is located at second St NE, Uhland T...</td>\n",
       "      <td>NaN</td>\n",
       "      <td>NaN</td>\n",
       "      <td>0.0</td>\n",
       "      <td>USD</td>\n",
       "      <td>No</td>\n",
       "      <td>Thumbnail</td>\n",
       "      <td>...</td>\n",
       "      <td>$790</td>\n",
       "      <td>Monthly</td>\n",
       "      <td>101</td>\n",
       "      <td>NaN</td>\n",
       "      <td>Washington</td>\n",
       "      <td>DC</td>\n",
       "      <td>38.9057</td>\n",
       "      <td>-76.9861</td>\n",
       "      <td>RentLingo</td>\n",
       "      <td>1577359415</td>\n",
       "    </tr>\n",
       "    <tr>\n",
       "      <th>1</th>\n",
       "      <td>5664597177</td>\n",
       "      <td>housing/rent/apartment</td>\n",
       "      <td>Studio apartment 814 Schutte Road</td>\n",
       "      <td>This unit is located at 814 Schutte Road, Evan...</td>\n",
       "      <td>NaN</td>\n",
       "      <td>NaN</td>\n",
       "      <td>1.0</td>\n",
       "      <td>USD</td>\n",
       "      <td>No</td>\n",
       "      <td>Thumbnail</td>\n",
       "      <td>...</td>\n",
       "      <td>$425</td>\n",
       "      <td>Monthly</td>\n",
       "      <td>106</td>\n",
       "      <td>814 Schutte Rd</td>\n",
       "      <td>Evansville</td>\n",
       "      <td>IN</td>\n",
       "      <td>37.9680</td>\n",
       "      <td>-87.6621</td>\n",
       "      <td>RentLingo</td>\n",
       "      <td>1577017063</td>\n",
       "    </tr>\n",
       "    <tr>\n",
       "      <th>2</th>\n",
       "      <td>5668626833</td>\n",
       "      <td>housing/rent/apartment</td>\n",
       "      <td>Studio apartment N Scott St, 14th St N, Arling...</td>\n",
       "      <td>This unit is located at N Scott St, 14th St N,...</td>\n",
       "      <td>NaN</td>\n",
       "      <td>1.0</td>\n",
       "      <td>0.0</td>\n",
       "      <td>USD</td>\n",
       "      <td>No</td>\n",
       "      <td>Thumbnail</td>\n",
       "      <td>...</td>\n",
       "      <td>$1,390</td>\n",
       "      <td>Monthly</td>\n",
       "      <td>107</td>\n",
       "      <td>NaN</td>\n",
       "      <td>Arlington</td>\n",
       "      <td>VA</td>\n",
       "      <td>38.8910</td>\n",
       "      <td>-77.0816</td>\n",
       "      <td>RentLingo</td>\n",
       "      <td>1577359410</td>\n",
       "    </tr>\n",
       "    <tr>\n",
       "      <th>3</th>\n",
       "      <td>5659918074</td>\n",
       "      <td>housing/rent/apartment</td>\n",
       "      <td>Studio apartment 1717 12th Ave</td>\n",
       "      <td>This unit is located at 1717 12th Ave, Seattle...</td>\n",
       "      <td>NaN</td>\n",
       "      <td>1.0</td>\n",
       "      <td>0.0</td>\n",
       "      <td>USD</td>\n",
       "      <td>No</td>\n",
       "      <td>Thumbnail</td>\n",
       "      <td>...</td>\n",
       "      <td>$925</td>\n",
       "      <td>Monthly</td>\n",
       "      <td>116</td>\n",
       "      <td>1717 12th Avenue</td>\n",
       "      <td>Seattle</td>\n",
       "      <td>WA</td>\n",
       "      <td>47.6160</td>\n",
       "      <td>-122.3275</td>\n",
       "      <td>RentLingo</td>\n",
       "      <td>1576667743</td>\n",
       "    </tr>\n",
       "    <tr>\n",
       "      <th>4</th>\n",
       "      <td>5668626759</td>\n",
       "      <td>housing/rent/apartment</td>\n",
       "      <td>Studio apartment Washington Blvd, N Cleveland ...</td>\n",
       "      <td>This unit is located at Washington Blvd, N Cle...</td>\n",
       "      <td>NaN</td>\n",
       "      <td>NaN</td>\n",
       "      <td>0.0</td>\n",
       "      <td>USD</td>\n",
       "      <td>No</td>\n",
       "      <td>Thumbnail</td>\n",
       "      <td>...</td>\n",
       "      <td>$880</td>\n",
       "      <td>Monthly</td>\n",
       "      <td>125</td>\n",
       "      <td>NaN</td>\n",
       "      <td>Arlington</td>\n",
       "      <td>VA</td>\n",
       "      <td>38.8738</td>\n",
       "      <td>-77.1055</td>\n",
       "      <td>RentLingo</td>\n",
       "      <td>1577359401</td>\n",
       "    </tr>\n",
       "  </tbody>\n",
       "</table>\n",
       "<p>5 rows × 22 columns</p>\n",
       "</div>"
      ],
      "text/plain": [
       "           id                category  \\\n",
       "0  5668626895  housing/rent/apartment   \n",
       "1  5664597177  housing/rent/apartment   \n",
       "2  5668626833  housing/rent/apartment   \n",
       "3  5659918074  housing/rent/apartment   \n",
       "4  5668626759  housing/rent/apartment   \n",
       "\n",
       "                                               title  \\\n",
       "0  Studio apartment 2nd St NE, Uhland Terrace NE,...   \n",
       "1                  Studio apartment 814 Schutte Road   \n",
       "2  Studio apartment N Scott St, 14th St N, Arling...   \n",
       "3                     Studio apartment 1717 12th Ave   \n",
       "4  Studio apartment Washington Blvd, N Cleveland ...   \n",
       "\n",
       "                                                body amenities  bathrooms  \\\n",
       "0  This unit is located at second St NE, Uhland T...       NaN        NaN   \n",
       "1  This unit is located at 814 Schutte Road, Evan...       NaN        NaN   \n",
       "2  This unit is located at N Scott St, 14th St N,...       NaN        1.0   \n",
       "3  This unit is located at 1717 12th Ave, Seattle...       NaN        1.0   \n",
       "4  This unit is located at Washington Blvd, N Cle...       NaN        NaN   \n",
       "\n",
       "   bedrooms currency fee  has_photo  ... price_display  price_type  \\\n",
       "0       0.0      USD  No  Thumbnail  ...          $790     Monthly   \n",
       "1       1.0      USD  No  Thumbnail  ...          $425     Monthly   \n",
       "2       0.0      USD  No  Thumbnail  ...        $1,390     Monthly   \n",
       "3       0.0      USD  No  Thumbnail  ...          $925     Monthly   \n",
       "4       0.0      USD  No  Thumbnail  ...          $880     Monthly   \n",
       "\n",
       "  square_feet           address    cityname state latitude longitude  \\\n",
       "0         101               NaN  Washington    DC  38.9057  -76.9861   \n",
       "1         106    814 Schutte Rd  Evansville    IN  37.9680  -87.6621   \n",
       "2         107               NaN   Arlington    VA  38.8910  -77.0816   \n",
       "3         116  1717 12th Avenue     Seattle    WA  47.6160 -122.3275   \n",
       "4         125               NaN   Arlington    VA  38.8738  -77.1055   \n",
       "\n",
       "      source        time  \n",
       "0  RentLingo  1577359415  \n",
       "1  RentLingo  1577017063  \n",
       "2  RentLingo  1577359410  \n",
       "3  RentLingo  1576667743  \n",
       "4  RentLingo  1577359401  \n",
       "\n",
       "[5 rows x 22 columns]"
      ]
     },
     "execution_count": 4,
     "metadata": {},
     "output_type": "execute_result"
    }
   ],
   "source": [
    "df = pd.read_csv('apartments_for_rent_classified_10K.csv',delimiter=';',encoding='cp1252')\n",
    "df.head()"
   ]
  },
  {
   "cell_type": "markdown",
   "metadata": {},
   "source": [
    "## Exploratory Data Analysis\n",
    "- Information about dataset \n",
    "- Describing Dataset \n",
    "- Checking for Categorical Columns\n",
    "- Checking for N-Unique values \n",
    "- Checking for value counts\n",
    "- Checking for the correlations (if possible)\n",
    "- Splitting into features and label\n",
    "- Plotting Featurev vs Label"
   ]
  },
  {
   "cell_type": "markdown",
   "metadata": {},
   "source": [
    "## Exploratory Data Analysis"
   ]
  },
  {
   "cell_type": "markdown",
   "metadata": {},
   "source": [
    "### Information about dataset "
   ]
  },
  {
   "cell_type": "code",
   "execution_count": 5,
   "metadata": {},
   "outputs": [
    {
     "name": "stdout",
     "output_type": "stream",
     "text": [
      "<class 'pandas.core.frame.DataFrame'>\n",
      "RangeIndex: 10000 entries, 0 to 9999\n",
      "Data columns (total 22 columns):\n",
      " #   Column         Non-Null Count  Dtype  \n",
      "---  ------         --------------  -----  \n",
      " 0   id             10000 non-null  int64  \n",
      " 1   category       10000 non-null  object \n",
      " 2   title          10000 non-null  object \n",
      " 3   body           10000 non-null  object \n",
      " 4   amenities      6451 non-null   object \n",
      " 5   bathrooms      9966 non-null   float64\n",
      " 6   bedrooms       9993 non-null   float64\n",
      " 7   currency       10000 non-null  object \n",
      " 8   fee            10000 non-null  object \n",
      " 9   has_photo      10000 non-null  object \n",
      " 10  pets_allowed   8252 non-null   object \n",
      " 11  price          10000 non-null  int64  \n",
      " 12  price_display  10000 non-null  object \n",
      " 13  price_type     10000 non-null  object \n",
      " 14  square_feet    10000 non-null  int64  \n",
      " 15  address        6673 non-null   object \n",
      " 16  cityname       9923 non-null   object \n",
      " 17  state          9923 non-null   object \n",
      " 18  latitude       9990 non-null   float64\n",
      " 19  longitude      9990 non-null   float64\n",
      " 20  source         10000 non-null  object \n",
      " 21  time           10000 non-null  int64  \n",
      "dtypes: float64(4), int64(4), object(14)\n",
      "memory usage: 1.7+ MB\n"
     ]
    }
   ],
   "source": [
    "df.info()"
   ]
  },
  {
   "cell_type": "markdown",
   "metadata": {},
   "source": [
    "### Describing Dataset "
   ]
  },
  {
   "cell_type": "code",
   "execution_count": 6,
   "metadata": {},
   "outputs": [
    {
     "data": {
      "text/html": [
       "<div>\n",
       "<style scoped>\n",
       "    .dataframe tbody tr th:only-of-type {\n",
       "        vertical-align: middle;\n",
       "    }\n",
       "\n",
       "    .dataframe tbody tr th {\n",
       "        vertical-align: top;\n",
       "    }\n",
       "\n",
       "    .dataframe thead th {\n",
       "        text-align: right;\n",
       "    }\n",
       "</style>\n",
       "<table border=\"1\" class=\"dataframe\">\n",
       "  <thead>\n",
       "    <tr style=\"text-align: right;\">\n",
       "      <th></th>\n",
       "      <th>id</th>\n",
       "      <th>bathrooms</th>\n",
       "      <th>bedrooms</th>\n",
       "      <th>price</th>\n",
       "      <th>square_feet</th>\n",
       "      <th>latitude</th>\n",
       "      <th>longitude</th>\n",
       "      <th>time</th>\n",
       "    </tr>\n",
       "  </thead>\n",
       "  <tbody>\n",
       "    <tr>\n",
       "      <th>count</th>\n",
       "      <td>1.000000e+04</td>\n",
       "      <td>9966.000000</td>\n",
       "      <td>9993.000000</td>\n",
       "      <td>10000.000000</td>\n",
       "      <td>10000.000000</td>\n",
       "      <td>9990.000000</td>\n",
       "      <td>9990.000000</td>\n",
       "      <td>1.000000e+04</td>\n",
       "    </tr>\n",
       "    <tr>\n",
       "      <th>mean</th>\n",
       "      <td>5.623396e+09</td>\n",
       "      <td>1.380544</td>\n",
       "      <td>1.744021</td>\n",
       "      <td>1486.277500</td>\n",
       "      <td>945.810500</td>\n",
       "      <td>37.695162</td>\n",
       "      <td>-94.652247</td>\n",
       "      <td>1.574891e+09</td>\n",
       "    </tr>\n",
       "    <tr>\n",
       "      <th>std</th>\n",
       "      <td>7.021025e+07</td>\n",
       "      <td>0.615410</td>\n",
       "      <td>0.942354</td>\n",
       "      <td>1076.507968</td>\n",
       "      <td>655.755736</td>\n",
       "      <td>5.495851</td>\n",
       "      <td>15.759805</td>\n",
       "      <td>3.762395e+06</td>\n",
       "    </tr>\n",
       "    <tr>\n",
       "      <th>min</th>\n",
       "      <td>5.508654e+09</td>\n",
       "      <td>1.000000</td>\n",
       "      <td>0.000000</td>\n",
       "      <td>200.000000</td>\n",
       "      <td>101.000000</td>\n",
       "      <td>21.315500</td>\n",
       "      <td>-158.022100</td>\n",
       "      <td>1.568744e+09</td>\n",
       "    </tr>\n",
       "    <tr>\n",
       "      <th>25%</th>\n",
       "      <td>5.509248e+09</td>\n",
       "      <td>1.000000</td>\n",
       "      <td>1.000000</td>\n",
       "      <td>949.000000</td>\n",
       "      <td>649.000000</td>\n",
       "      <td>33.679850</td>\n",
       "      <td>-101.301700</td>\n",
       "      <td>1.568781e+09</td>\n",
       "    </tr>\n",
       "    <tr>\n",
       "      <th>50%</th>\n",
       "      <td>5.668610e+09</td>\n",
       "      <td>1.000000</td>\n",
       "      <td>2.000000</td>\n",
       "      <td>1270.000000</td>\n",
       "      <td>802.000000</td>\n",
       "      <td>38.809800</td>\n",
       "      <td>-93.651600</td>\n",
       "      <td>1.577358e+09</td>\n",
       "    </tr>\n",
       "    <tr>\n",
       "      <th>75%</th>\n",
       "      <td>5.668626e+09</td>\n",
       "      <td>2.000000</td>\n",
       "      <td>2.000000</td>\n",
       "      <td>1695.000000</td>\n",
       "      <td>1100.000000</td>\n",
       "      <td>41.349800</td>\n",
       "      <td>-82.209975</td>\n",
       "      <td>1.577359e+09</td>\n",
       "    </tr>\n",
       "    <tr>\n",
       "      <th>max</th>\n",
       "      <td>5.668663e+09</td>\n",
       "      <td>8.500000</td>\n",
       "      <td>9.000000</td>\n",
       "      <td>52500.000000</td>\n",
       "      <td>40000.000000</td>\n",
       "      <td>61.594000</td>\n",
       "      <td>-70.191600</td>\n",
       "      <td>1.577362e+09</td>\n",
       "    </tr>\n",
       "  </tbody>\n",
       "</table>\n",
       "</div>"
      ],
      "text/plain": [
       "                 id    bathrooms     bedrooms         price   square_feet  \\\n",
       "count  1.000000e+04  9966.000000  9993.000000  10000.000000  10000.000000   \n",
       "mean   5.623396e+09     1.380544     1.744021   1486.277500    945.810500   \n",
       "std    7.021025e+07     0.615410     0.942354   1076.507968    655.755736   \n",
       "min    5.508654e+09     1.000000     0.000000    200.000000    101.000000   \n",
       "25%    5.509248e+09     1.000000     1.000000    949.000000    649.000000   \n",
       "50%    5.668610e+09     1.000000     2.000000   1270.000000    802.000000   \n",
       "75%    5.668626e+09     2.000000     2.000000   1695.000000   1100.000000   \n",
       "max    5.668663e+09     8.500000     9.000000  52500.000000  40000.000000   \n",
       "\n",
       "          latitude    longitude          time  \n",
       "count  9990.000000  9990.000000  1.000000e+04  \n",
       "mean     37.695162   -94.652247  1.574891e+09  \n",
       "std       5.495851    15.759805  3.762395e+06  \n",
       "min      21.315500  -158.022100  1.568744e+09  \n",
       "25%      33.679850  -101.301700  1.568781e+09  \n",
       "50%      38.809800   -93.651600  1.577358e+09  \n",
       "75%      41.349800   -82.209975  1.577359e+09  \n",
       "max      61.594000   -70.191600  1.577362e+09  "
      ]
     },
     "execution_count": 6,
     "metadata": {},
     "output_type": "execute_result"
    }
   ],
   "source": [
    "df.describe()"
   ]
  },
  {
   "cell_type": "markdown",
   "metadata": {},
   "source": [
    "### Checking Categorical columns "
   ]
  },
  {
   "cell_type": "code",
   "execution_count": 7,
   "metadata": {},
   "outputs": [
    {
     "name": "stdout",
     "output_type": "stream",
     "text": [
      "Index(['category', 'title', 'body', 'amenities', 'currency', 'fee',\n",
      "       'has_photo', 'pets_allowed', 'price_display', 'price_type', 'address',\n",
      "       'cityname', 'state', 'source'],\n",
      "      dtype='object')\n"
     ]
    }
   ],
   "source": [
    "df_categorical = df.select_dtypes('object')\n",
    "print(df_categorical.columns)"
   ]
  },
  {
   "cell_type": "markdown",
   "metadata": {},
   "source": [
    "### Checking for N-unique values "
   ]
  },
  {
   "cell_type": "code",
   "execution_count": 8,
   "metadata": {},
   "outputs": [
    {
     "data": {
      "text/plain": [
       "id               10000\n",
       "category             3\n",
       "title             9350\n",
       "body              9961\n",
       "amenities         2254\n",
       "bathrooms           14\n",
       "bedrooms            10\n",
       "currency             1\n",
       "fee                  1\n",
       "has_photo            3\n",
       "pets_allowed         4\n",
       "price             1725\n",
       "price_display     1726\n",
       "price_type           3\n",
       "square_feet       1738\n",
       "address           6658\n",
       "cityname          1574\n",
       "state               51\n",
       "latitude          2395\n",
       "longitude         2392\n",
       "source              12\n",
       "time              6310\n",
       "dtype: int64"
      ]
     },
     "execution_count": 8,
     "metadata": {},
     "output_type": "execute_result"
    }
   ],
   "source": [
    "df.nunique()"
   ]
  },
  {
   "cell_type": "markdown",
   "metadata": {},
   "source": [
    "### Checking for Values count"
   ]
  },
  {
   "cell_type": "code",
   "execution_count": 9,
   "metadata": {},
   "outputs": [
    {
     "data": {
      "text/plain": [
       "category                title                                                 body                                                                                                                                                                                                                                                                                                                                                                                                                                                                                                                                                                                                                                                                                                                                                                                                                                                                                                        amenities                                                                                                                                   currency  fee  has_photo  pets_allowed  price_display  price_type  address                     cityname        state  source      \n",
       "housing/rent/apartment  $1,385.00 MO /One BR â?? 550 ft2 Apartment in NW, DC  Washington This charming Cleveland Park apartment located @ Wisconsin & Norton consists of a living/dedicated dining area room, kitchen, hallway-closet, bedroom, and bathroom. Lots of closet space. Private entry from rear of building, 1 parking spot included near entrance in alley @ front of unit. Excellent location across from Cathedral Commons which includes grocery, restaurants, Starbucks, fitness, other shops. Convenient to AU. Bus stop within 1 block @ Macomb St. less than 1 mi south of Tenleytown Metro Station. Starbucks across the street. No pets, non-smoking. Min 1yr lease. Security deposit 1 mnth's rent. $1,385.00 per mo. Central AC, Heat, Electric, Water/Sewer utilities included. Email XXXX@ottatibuilders.com for inquiries or to coordinate a viewing. A/c, Cable Ready, Oversized Closets, Paid Utilities, Wooden floors, Bus/Public Transportation            AC,Cable or Satellite,Wood Floors                                                                                                           USD       No   No         None          $1,385         Monthly     3417 Wisconsin Avenue NW    Washington      DC     RentDigs.com    1\n",
       "                        Studio apartment 3146 16th Street Nw                  This unit is located at 3146 16th Street Nw, Washington, 20010, DCMonthly rental rates range from $2190 - $2749We have studio - 1 beds units available for rent Apartment features include:-- In-Unit Laundry- On Bus Line- Balcony, Deck, Patio- Dishwasher- Furnished- Fitness facilities- Ac- Controlled Access                                                                                                                                                                                                                                                                                                                                                                                                                                                                                                                                                                                          Cable or Satellite,Clubhouse,Dishwasher,Elevator,Garbage Disposal,Gated,Internet Access,Parking,Patio/Deck,Refrigerator                     USD       No   Thumbnail  Cats,Dogs     $2,749         Monthly     3146 16th St NW             Washington      DC     RentLingo       1\n",
       "                        Studio apartment 3020 S. Sixth Ave                    This unit is located at 3020 S. 6th Ave, Tucson, 85713, AZMonthly rental rates range from $592We have studio units available for rent Apartment features include:-- Water Included- Refrigerator- Public Transportation- Trash Removal Included- A-c- On-Site Laundry- Furnished- Electric Included                                                                                                                                                                                                                                                                                                                                                                                                                                                                                                                                                                                                         Parking,Refrigerator                                                                                                                        USD       No   Thumbnail  Cats,Dogs     $592           Monthly     3020 S Sixth Avenue         Tucson          AZ     RentLingo       1\n",
       "                        Studio apartment 3025 S. Sagamont                     This unit is located at 3025 S. Sagamont, Springfield, 65807, MOMonthly rental rates range from $545 - $965We have studio - 3 beds units available for rent Apartment features include:-- Storage- Dishwasher- On-Site Laundry- Fitness facilities- Cable Included- Surface Parking- Internet Included- Balcony, Deck, Patio                                                                                                                                                                                                                                                                                                                                                                                                                                                                                                                                                                                Cable or Satellite,Dishwasher,Garbage Disposal,Internet Access,Parking,Patio/Deck,Pool,Refrigerator,Storage                                 USD       No   Thumbnail  Cats,Dogs     $545           Monthly     3025 S Sagamont             Springfield     MO     RentLingo       1\n",
       "                        Studio apartment 303,315 E. 8th & 417 N. Grant        This unit is located at 303,315 E. eighth & 417 N. Grant, Bloomington, 47408, INMonthly rental rates range from $590 - $950We have studio - 2 beds units available for rent Apartment features include:-- Internet Included- Water Included- On Bus Line- A-c- Cable Included- Heat Included- Dishwasher- On-Site Laundry                                                                                                                                                                                                                                                                                                                                                                                                                                                                                                                                                                                   Cable or Satellite,Dishwasher,Garbage Disposal,Internet Access,Parking,Pool,Refrigerator                                                    USD       No   Thumbnail  None          $590           Monthly     303,315 E 8th  417 N Grant  Bloomington     IN     RentLingo       1\n",
       "                                                                                                                                                                                                                                                                                                                                                                                                                                                                                                                                                                                                                                                                                                                                                                                                                                                                                                                                                                                                                                                                                                                                                                                                                                                                           ..\n",
       "                        One BR 312 Prospect Ave NE                            This unit is located at 312 Prospect Ave NE, Grand Rapids, 49503, MIMonthly rental rates range from $1150We have 1 beds units available for rent                                                                                                                                                                                                                                                                                                                                                                                                                                                                                                                                                                                                                                                                                                                                                            Dishwasher,Internet Access,Parking,Pool,Refrigerator                                                                                        USD       No   Thumbnail  Cats,Dogs     $1,150         Monthly     312 Prospect Avenue NE      Grand Rapids    MI     RentLingo       1\n",
       "                        One BR 3121 Ne 37th, #102                             This unit is located at 3121 Ne 37th, #102, Kansas City, 64117, MOMonthly rental rates range from $558 - $701We have one - three beds units available for rent Apartment available amenities:-- Refrigerator- Garbage Disposal- On-Site Laundry- Internet Included- Carpet- Public Transportation- Living Room- Balcony, Deck, Patio                                                                                                                                                                                                                                                                                                                                                                                                                                                                                                                                                                        Cable or Satellite,Garbage Disposal,Internet Access,Parking,Patio/Deck,Playground,Refrigerator                                              USD       No   Thumbnail  None          $558           Monthly     3121 NE 37th #102           Kansas City     MO     RentLingo       1\n",
       "                        One BR 3127 W Jewell Rd                               This unit is located at 3127 W Jewell Rd, Fayetteville, 72701, ARMonthly rental rates range from $650 - $755We have one - two beds units available for rent Apartment features include:-- Dishwasher- On Bus Line- In-Unit Laundry- Handicapped access- Balcony, Deck, Patio- A-c- Storage- Refrigerator                                                                                                                                                                                                                                                                                                                                                                                                                                                                                                                                                                                                    Basketball,Cable or Satellite,Clubhouse,Dishwasher,Fireplace,Garbage Disposal,Internet Access,Parking,Patio/Deck,Pool,Refrigerator,Storage  USD       No   Thumbnail  Cats,Dogs     $650           Monthly     3127 W Jewell Road          Fayetteville    AR     RentLingo       1\n",
       "                        One BR 3130 Middle Road                               This unit is located at 3130 Middle Road, Jeffersonville, 47130, INMonthly rental rates range from $649 - $799We have one - two beds units available for rent Apartment available amenities:-- Carpet- Dishwasher- Balcony, Deck, Patio- Washer dryer Connections- Refrigerator- A-c- Public Transportation- On-Site Laundry                                                                                                                                                                                                                                                                                                                                                                                                                                                                                                                                                                                Cable or Satellite,Dishwasher,Internet Access,Parking,Patio/Deck,Playground,Refrigerator                                                    USD       No   Thumbnail  Cats,Dogs     $649           Monthly     3130 Middle Rd              Jeffersonville  IN     RentLingo       1\n",
       "                        X-Large Studio in Baltimore                           Baltimore Super Holiday Specials - No Application or Move-In Charges if moved in by 1/1/2020. second Floor Bright and X-Large Studio in Charles Village - Utilities Included *High-speed internet*Hardwood flooring*Pets allowed*Large bathroom with tiled bath-tub*Off-Onstreet parking*Refrigerator*Oven / range*Soaring ceilings *Laundry*Near JHU, Penn Station, MICA, University of Baltimore Law School and the Arts District*All Utilities Included (Heat, Electric & Water) Bright & Large Studio with all utilities included and close to everything. UNIT FEATURES - Cable ready, Wood floors, High-speed internet, Oven/range, Pets allowed, Refrigerator DRS Sumner Companies, Inc.Call: (443) 251-XXXXText: 410402XXXX Cable Ready, Highspeed broadband Available, Garage and/or Sheltered parking, Hardwood flooring, Laundry Facility, Small breed dogs accepted, Large Dogs , Cats allowed  Cable or Satellite,Internet Access,Parking,Refrigerator,Wood Floors                                                                         USD       No   Thumbnail  Cats,Dogs     $895           Monthly     2106 Saint Paul St  2r      Baltimore       MD     RentDigs.com    1\n",
       "Length: 3543, dtype: int64"
      ]
     },
     "execution_count": 9,
     "metadata": {},
     "output_type": "execute_result"
    }
   ],
   "source": [
    "df_categorical.value_counts()"
   ]
  },
  {
   "cell_type": "markdown",
   "metadata": {},
   "source": [
    "### Checking for NaN values"
   ]
  },
  {
   "cell_type": "code",
   "execution_count": 10,
   "metadata": {},
   "outputs": [
    {
     "data": {
      "text/plain": [
       "id                  0\n",
       "category            0\n",
       "title               0\n",
       "body                0\n",
       "amenities        3549\n",
       "bathrooms          34\n",
       "bedrooms            7\n",
       "currency            0\n",
       "fee                 0\n",
       "has_photo           0\n",
       "pets_allowed     1748\n",
       "price               0\n",
       "price_display       0\n",
       "price_type          0\n",
       "square_feet         0\n",
       "address          3327\n",
       "cityname           77\n",
       "state              77\n",
       "latitude           10\n",
       "longitude          10\n",
       "source              0\n",
       "time                0\n",
       "dtype: int64"
      ]
     },
     "execution_count": 10,
     "metadata": {},
     "output_type": "execute_result"
    }
   ],
   "source": [
    "df.isnull().sum()"
   ]
  },
  {
   "cell_type": "markdown",
   "metadata": {},
   "source": [
    "### Plotting Price vs Square Feet"
   ]
  },
  {
   "cell_type": "code",
   "execution_count": 11,
   "metadata": {},
   "outputs": [
    {
     "data": {
      "image/png": "[encoded data removed]",
      "text/plain": [
       "<Figure size 2000x500 with 1 Axes>"
      ]
     },
     "metadata": {},
     "output_type": "display_data"
    }
   ],
   "source": [
    "plt.figure(figsize=(20,5))\n",
    "avg_sqrFeet_price = df.groupby('square_feet')['price'].mean().reset_index()\n",
    "avg_price_sqrFeet  = avg_sqrFeet_price.sort_values(by='price',ascending=False)\n",
    "sns.lineplot(x='square_feet',y='price',data=avg_price_sqrFeet)\n",
    "plt.show()"
   ]
  },
  {
   "cell_type": "markdown",
   "metadata": {},
   "source": [
    "### Plotting City name vs Price"
   ]
  },
  {
   "cell_type": "code",
   "execution_count": 12,
   "metadata": {},
   "outputs": [
    {
     "data": {
      "image/png": "[encoded data removed]",
      "text/plain": [
       "<Figure size 1000x500 with 1 Axes>"
      ]
     },
     "metadata": {},
     "output_type": "display_data"
    }
   ],
   "source": [
    "plt.figure(figsize=(10,5))\n",
    "avg_price_by_city = df.groupby('cityname')['price'].mean().reset_index()\n",
    "avg_city_by_price = avg_price_by_city.sort_values(by='price',ascending=False)\n",
    "sns.barplot(x='cityname',y='price',data=avg_city_by_price.head(10))\n",
    "plt.tight_layout()\n",
    "plt.show()"
   ]
  },
  {
   "cell_type": "markdown",
   "metadata": {},
   "source": [
    "### Plotting States vs price"
   ]
  },
  {
   "cell_type": "code",
   "execution_count": 13,
   "metadata": {},
   "outputs": [
    {
     "data": {
      "text/plain": [
       "[]"
      ]
     },
     "execution_count": 13,
     "metadata": {},
     "output_type": "execute_result"
    },
    {
     "data": {
      "image/png": "[encoded data removed]",
      "text/plain": [
       "<Figure size 1500x500 with 1 Axes>"
      ]
     },
     "metadata": {},
     "output_type": "display_data"
    }
   ],
   "source": [
    "plt.figure(figsize=(15,5))\n",
    "state_mean_price = df.groupby('state')['price'].mean().reset_index()\n",
    "avg_state_price = state_mean_price.sort_values(by='price',ascending=False)\n",
    "sns.barplot(x='state',y='price',data=avg_state_price)\n",
    "plt.tight_layout()\n",
    "plt.plot()"
   ]
  },
  {
   "cell_type": "markdown",
   "metadata": {},
   "source": [
    "### Splitting Features and Label\n",
    "- Dropping featuers: Body, Title, Address (Reason: It mostly has unique values for most of the instances which defines that mostly each instance has unique value which cannot contribute in training of machine learning model)"
   ]
  },
  {
   "cell_type": "code",
   "execution_count": 14,
   "metadata": {},
   "outputs": [
    {
     "name": "stdout",
     "output_type": "stream",
     "text": [
      "<class 'pandas.core.frame.DataFrame'>\n",
      "RangeIndex: 10000 entries, 0 to 9999\n",
      "Data columns (total 17 columns):\n",
      " #   Column         Non-Null Count  Dtype  \n",
      "---  ------         --------------  -----  \n",
      " 0   category       10000 non-null  object \n",
      " 1   amenities      6451 non-null   object \n",
      " 2   bathrooms      9966 non-null   float64\n",
      " 3   bedrooms       9993 non-null   float64\n",
      " 4   currency       10000 non-null  object \n",
      " 5   fee            10000 non-null  object \n",
      " 6   has_photo      10000 non-null  object \n",
      " 7   pets_allowed   8252 non-null   object \n",
      " 8   price          10000 non-null  int64  \n",
      " 9   price_display  10000 non-null  object \n",
      " 10  price_type     10000 non-null  object \n",
      " 11  cityname       9923 non-null   object \n",
      " 12  state          9923 non-null   object \n",
      " 13  latitude       9990 non-null   float64\n",
      " 14  longitude      9990 non-null   float64\n",
      " 15  source         10000 non-null  object \n",
      " 16  time           10000 non-null  int64  \n",
      "dtypes: float64(4), int64(2), object(11)\n",
      "memory usage: 1.3+ MB\n",
      "None\n",
      "<class 'pandas.core.frame.DataFrame'>\n",
      "RangeIndex: 10000 entries, 0 to 9999\n",
      "Data columns (total 1 columns):\n",
      " #   Column       Non-Null Count  Dtype\n",
      "---  ------       --------------  -----\n",
      " 0   square_feet  10000 non-null  int64\n",
      "dtypes: int64(1)\n",
      "memory usage: 78.3 KB\n",
      "None\n"
     ]
    }
   ],
   "source": [
    "df_features = df.drop([\"square_feet\",'body','title','address','id'],axis=1)\n",
    "df_label = df[['square_feet']]\n",
    "print(df_features.info())\n",
    "print(df_label.info())"
   ]
  },
  {
   "cell_type": "markdown",
   "metadata": {},
   "source": [
    "## Data Preprocessing\n",
    "- Encoding \n",
    "- Checking for an outliers\n",
    "- Removing outliers\n",
    "- Finding missing values\n",
    "- Standard Scaler\n",
    "- train test split"
   ]
  },
  {
   "cell_type": "code",
   "execution_count": 15,
   "metadata": {},
   "outputs": [
    {
     "name": "stdout",
     "output_type": "stream",
     "text": [
      "                 category                                    amenities  \\\n",
      "0  housing/rent/apartment                                          NaN   \n",
      "1  housing/rent/apartment                                          NaN   \n",
      "2  housing/rent/apartment                                          NaN   \n",
      "3  housing/rent/apartment                                          NaN   \n",
      "4  housing/rent/apartment                                          NaN   \n",
      "5  housing/rent/apartment  Dishwasher,Elevator,Patio/Deck,Pool,Storage   \n",
      "6  housing/rent/apartment                                          NaN   \n",
      "7  housing/rent/apartment                                          NaN   \n",
      "8  housing/rent/apartment                                 Refrigerator   \n",
      "9  housing/rent/apartment                                          NaN   \n",
      "\n",
      "  currency fee  has_photo pets_allowed price_display price_type  \\\n",
      "0      USD  No  Thumbnail         None          $790    Monthly   \n",
      "1      USD  No  Thumbnail         None          $425    Monthly   \n",
      "2      USD  No  Thumbnail         None        $1,390    Monthly   \n",
      "3      USD  No  Thumbnail         None          $925    Monthly   \n",
      "4      USD  No  Thumbnail         None          $880    Monthly   \n",
      "5      USD  No  Thumbnail          NaN        $2,475    Monthly   \n",
      "6      USD  No  Thumbnail         None        $1,800    Monthly   \n",
      "7      USD  No  Thumbnail         None          $840    Monthly   \n",
      "8      USD  No  Thumbnail         None        $1,495    Monthly   \n",
      "9      USD  No  Thumbnail         None          $890    Monthly   \n",
      "\n",
      "        cityname state     source  \n",
      "0     Washington    DC  RentLingo  \n",
      "1     Evansville    IN  RentLingo  \n",
      "2      Arlington    VA  RentLingo  \n",
      "3        Seattle    WA  RentLingo  \n",
      "4      Arlington    VA  RentLingo  \n",
      "5      Manhattan    NY   Listanza  \n",
      "6         Venice    CA  RentLingo  \n",
      "7     Washington    DC  RentLingo  \n",
      "8  San Francisco    CA  RentLingo  \n",
      "9     Washington    DC  RentLingo  \n"
     ]
    }
   ],
   "source": [
    "df_categorical = df_features.select_dtypes('object')\n",
    "print(df_categorical.head(10))"
   ]
  },
  {
   "cell_type": "markdown",
   "metadata": {},
   "source": [
    "### Encoding on categical features"
   ]
  },
  {
   "cell_type": "code",
   "execution_count": 20,
   "metadata": {},
   "outputs": [
    {
     "name": "stdout",
     "output_type": "stream",
     "text": [
      "<class 'pandas.core.frame.DataFrame'>\n",
      "RangeIndex: 10000 entries, 0 to 9999\n",
      "Data columns (total 17 columns):\n",
      " #   Column         Non-Null Count  Dtype  \n",
      "---  ------         --------------  -----  \n",
      " 0   category       10000 non-null  float64\n",
      " 1   amenities      6451 non-null   float64\n",
      " 2   bathrooms      9966 non-null   float64\n",
      " 3   bedrooms       9993 non-null   float64\n",
      " 4   currency       10000 non-null  float64\n",
      " 5   fee            10000 non-null  float64\n",
      " 6   has_photo      10000 non-null  float64\n",
      " 7   pets_allowed   8252 non-null   float64\n",
      " 8   price          10000 non-null  float64\n",
      " 9   price_display  10000 non-null  float64\n",
      " 10  price_type     10000 non-null  float64\n",
      " 11  cityname       9923 non-null   float64\n",
      " 12  state          9923 non-null   float64\n",
      " 13  latitude       9990 non-null   float64\n",
      " 14  longitude      9990 non-null   float64\n",
      " 15  source         10000 non-null  float64\n",
      " 16  time           10000 non-null  float64\n",
      "dtypes: float64(17)\n",
      "memory usage: 1.3 MB\n",
      "None\n"
     ]
    }
   ],
   "source": [
    "encoder = OrdinalEncoder()\n",
    "df_features_encoded = encoder.fit_transform(df_features)\n",
    "df_features_encoded = pd.DataFrame(df_features_encoded,columns=df_features.columns)\n",
    "print(df_features_encoded.info())"
   ]
  },
  {
   "cell_type": "markdown",
   "metadata": {},
   "source": [
    "### Checking for an outliers\n",
    "- Data has few number of outliers so removing outliers doesnt required"
   ]
  },
  {
   "cell_type": "code",
   "execution_count": 24,
   "metadata": {},
   "outputs": [
    {
     "data": {
      "image/png": "[encoded data removed]",
      "text/plain": [
       "<Figure size 2000x1000 with 1 Axes>"
      ]
     },
     "metadata": {},
     "output_type": "display_data"
    }
   ],
   "source": [
    "plt.figure(figsize=(20,10))\n",
    "df_features_encoded.boxplot()\n",
    "plt.show()"
   ]
  },
  {
   "cell_type": "markdown",
   "metadata": {},
   "source": [
    "### Checking for missing values"
   ]
  },
  {
   "cell_type": "code",
   "execution_count": 25,
   "metadata": {},
   "outputs": [
    {
     "name": "stdout",
     "output_type": "stream",
     "text": [
      "category            0\n",
      "amenities        3549\n",
      "bathrooms          34\n",
      "bedrooms            7\n",
      "currency            0\n",
      "fee                 0\n",
      "has_photo           0\n",
      "pets_allowed     1748\n",
      "price               0\n",
      "price_display       0\n",
      "price_type          0\n",
      "cityname           77\n",
      "state              77\n",
      "latitude           10\n",
      "longitude          10\n",
      "source              0\n",
      "time                0\n",
      "dtype: int64\n"
     ]
    }
   ],
   "source": [
    "print(df_features_encoded.isnull().sum())"
   ]
  },
  {
   "cell_type": "markdown",
   "metadata": {},
   "source": [
    "### Handling missing values"
   ]
  },
  {
   "cell_type": "code",
   "execution_count": 30,
   "metadata": {},
   "outputs": [
    {
     "data": {
      "text/html": [
       "<div>\n",
       "<style scoped>\n",
       "    .dataframe tbody tr th:only-of-type {\n",
       "        vertical-align: middle;\n",
       "    }\n",
       "\n",
       "    .dataframe tbody tr th {\n",
       "        vertical-align: top;\n",
       "    }\n",
       "\n",
       "    .dataframe thead th {\n",
       "        text-align: right;\n",
       "    }\n",
       "</style>\n",
       "<table border=\"1\" class=\"dataframe\">\n",
       "  <thead>\n",
       "    <tr style=\"text-align: right;\">\n",
       "      <th></th>\n",
       "      <th>category</th>\n",
       "      <th>amenities</th>\n",
       "      <th>bathrooms</th>\n",
       "      <th>bedrooms</th>\n",
       "      <th>currency</th>\n",
       "      <th>fee</th>\n",
       "      <th>has_photo</th>\n",
       "      <th>pets_allowed</th>\n",
       "      <th>price</th>\n",
       "      <th>price_display</th>\n",
       "      <th>price_type</th>\n",
       "      <th>cityname</th>\n",
       "      <th>state</th>\n",
       "      <th>latitude</th>\n",
       "      <th>longitude</th>\n",
       "      <th>source</th>\n",
       "      <th>time</th>\n",
       "    </tr>\n",
       "  </thead>\n",
       "  <tbody>\n",
       "    <tr>\n",
       "      <th>0</th>\n",
       "      <td>0.0</td>\n",
       "      <td>1461.164626</td>\n",
       "      <td>0.760486</td>\n",
       "      <td>0.0</td>\n",
       "      <td>0.0</td>\n",
       "      <td>0.0</td>\n",
       "      <td>1.0</td>\n",
       "      <td>3.0</td>\n",
       "      <td>207.0</td>\n",
       "      <td>1528.0</td>\n",
       "      <td>0.0</td>\n",
       "      <td>1468.0</td>\n",
       "      <td>7.0</td>\n",
       "      <td>1177.0</td>\n",
       "      <td>1987.0</td>\n",
       "      <td>9.0</td>\n",
       "      <td>5275.0</td>\n",
       "    </tr>\n",
       "    <tr>\n",
       "      <th>1</th>\n",
       "      <td>0.0</td>\n",
       "      <td>1461.164626</td>\n",
       "      <td>0.760486</td>\n",
       "      <td>1.0</td>\n",
       "      <td>0.0</td>\n",
       "      <td>0.0</td>\n",
       "      <td>1.0</td>\n",
       "      <td>3.0</td>\n",
       "      <td>16.0</td>\n",
       "      <td>1293.0</td>\n",
       "      <td>0.0</td>\n",
       "      <td>449.0</td>\n",
       "      <td>15.0</td>\n",
       "      <td>1080.0</td>\n",
       "      <td>1205.0</td>\n",
       "      <td>9.0</td>\n",
       "      <td>3941.0</td>\n",
       "    </tr>\n",
       "    <tr>\n",
       "      <th>2</th>\n",
       "      <td>0.0</td>\n",
       "      <td>1461.164626</td>\n",
       "      <td>0.000000</td>\n",
       "      <td>0.0</td>\n",
       "      <td>0.0</td>\n",
       "      <td>0.0</td>\n",
       "      <td>1.0</td>\n",
       "      <td>3.0</td>\n",
       "      <td>738.0</td>\n",
       "      <td>343.0</td>\n",
       "      <td>0.0</td>\n",
       "      <td>52.0</td>\n",
       "      <td>45.0</td>\n",
       "      <td>1173.0</td>\n",
       "      <td>1967.0</td>\n",
       "      <td>9.0</td>\n",
       "      <td>5271.0</td>\n",
       "    </tr>\n",
       "    <tr>\n",
       "      <th>3</th>\n",
       "      <td>0.0</td>\n",
       "      <td>1461.164626</td>\n",
       "      <td>0.000000</td>\n",
       "      <td>0.0</td>\n",
       "      <td>0.0</td>\n",
       "      <td>0.0</td>\n",
       "      <td>1.0</td>\n",
       "      <td>3.0</td>\n",
       "      <td>329.0</td>\n",
       "      <td>1660.0</td>\n",
       "      <td>0.0</td>\n",
       "      <td>1285.0</td>\n",
       "      <td>47.0</td>\n",
       "      <td>2343.0</td>\n",
       "      <td>79.0</td>\n",
       "      <td>9.0</td>\n",
       "      <td>3157.0</td>\n",
       "    </tr>\n",
       "    <tr>\n",
       "      <th>4</th>\n",
       "      <td>0.0</td>\n",
       "      <td>1461.164626</td>\n",
       "      <td>0.760486</td>\n",
       "      <td>0.0</td>\n",
       "      <td>0.0</td>\n",
       "      <td>0.0</td>\n",
       "      <td>1.0</td>\n",
       "      <td>3.0</td>\n",
       "      <td>287.0</td>\n",
       "      <td>1614.0</td>\n",
       "      <td>0.0</td>\n",
       "      <td>52.0</td>\n",
       "      <td>45.0</td>\n",
       "      <td>1165.0</td>\n",
       "      <td>1963.0</td>\n",
       "      <td>9.0</td>\n",
       "      <td>5263.0</td>\n",
       "    </tr>\n",
       "  </tbody>\n",
       "</table>\n",
       "</div>"
      ],
      "text/plain": [
       "   category    amenities  bathrooms  bedrooms  currency  fee  has_photo  \\\n",
       "0       0.0  1461.164626   0.760486       0.0       0.0  0.0        1.0   \n",
       "1       0.0  1461.164626   0.760486       1.0       0.0  0.0        1.0   \n",
       "2       0.0  1461.164626   0.000000       0.0       0.0  0.0        1.0   \n",
       "3       0.0  1461.164626   0.000000       0.0       0.0  0.0        1.0   \n",
       "4       0.0  1461.164626   0.760486       0.0       0.0  0.0        1.0   \n",
       "\n",
       "   pets_allowed  price  price_display  price_type  cityname  state  latitude  \\\n",
       "0           3.0  207.0         1528.0         0.0    1468.0    7.0    1177.0   \n",
       "1           3.0   16.0         1293.0         0.0     449.0   15.0    1080.0   \n",
       "2           3.0  738.0          343.0         0.0      52.0   45.0    1173.0   \n",
       "3           3.0  329.0         1660.0         0.0    1285.0   47.0    2343.0   \n",
       "4           3.0  287.0         1614.0         0.0      52.0   45.0    1165.0   \n",
       "\n",
       "   longitude  source    time  \n",
       "0     1987.0     9.0  5275.0  \n",
       "1     1205.0     9.0  3941.0  \n",
       "2     1967.0     9.0  5271.0  \n",
       "3       79.0     9.0  3157.0  \n",
       "4     1963.0     9.0  5263.0  "
      ]
     },
     "execution_count": 30,
     "metadata": {},
     "output_type": "execute_result"
    }
   ],
   "source": [
    "imputer = SimpleImputer()\n",
    "df_features_noNaN = imputer.fit_transform(df_features_encoded)\n",
    "df_features_noNaN = pd.DataFrame(df_features_noNaN,columns=df_features.columns)\n",
    "df_features_noNaN.head()"
   ]
  },
  {
   "cell_type": "markdown",
   "metadata": {},
   "source": [
    "### Standard Scaler"
   ]
  },
  {
   "cell_type": "code",
   "execution_count": 31,
   "metadata": {},
   "outputs": [
    {
     "data": {
      "text/html": [
       "<div>\n",
       "<style scoped>\n",
       "    .dataframe tbody tr th:only-of-type {\n",
       "        vertical-align: middle;\n",
       "    }\n",
       "\n",
       "    .dataframe tbody tr th {\n",
       "        vertical-align: top;\n",
       "    }\n",
       "\n",
       "    .dataframe thead th {\n",
       "        text-align: right;\n",
       "    }\n",
       "</style>\n",
       "<table border=\"1\" class=\"dataframe\">\n",
       "  <thead>\n",
       "    <tr style=\"text-align: right;\">\n",
       "      <th></th>\n",
       "      <th>category</th>\n",
       "      <th>amenities</th>\n",
       "      <th>bathrooms</th>\n",
       "      <th>bedrooms</th>\n",
       "      <th>currency</th>\n",
       "      <th>fee</th>\n",
       "      <th>has_photo</th>\n",
       "      <th>pets_allowed</th>\n",
       "      <th>price</th>\n",
       "      <th>price_display</th>\n",
       "      <th>price_type</th>\n",
       "      <th>cityname</th>\n",
       "      <th>state</th>\n",
       "      <th>latitude</th>\n",
       "      <th>longitude</th>\n",
       "      <th>source</th>\n",
       "      <th>time</th>\n",
       "    </tr>\n",
       "  </thead>\n",
       "  <tbody>\n",
       "    <tr>\n",
       "      <th>0</th>\n",
       "      <td>-0.018977</td>\n",
       "      <td>1.618126e-13</td>\n",
       "      <td>-1.815938e-16</td>\n",
       "      <td>-1.851447</td>\n",
       "      <td>0.0</td>\n",
       "      <td>0.0</td>\n",
       "      <td>-0.224766</td>\n",
       "      <td>1.646216</td>\n",
       "      <td>-1.148794</td>\n",
       "      <td>1.256019</td>\n",
       "      <td>-0.013418</td>\n",
       "      <td>1.636762</td>\n",
       "      <td>-1.269347</td>\n",
       "      <td>0.037633</td>\n",
       "      <td>1.388788</td>\n",
       "      <td>0.419535</td>\n",
       "      <td>0.852435</td>\n",
       "    </tr>\n",
       "    <tr>\n",
       "      <th>1</th>\n",
       "      <td>-0.018977</td>\n",
       "      <td>1.618126e-13</td>\n",
       "      <td>-1.815938e-16</td>\n",
       "      <td>-0.789850</td>\n",
       "      <td>0.0</td>\n",
       "      <td>0.0</td>\n",
       "      <td>-0.224766</td>\n",
       "      <td>1.646216</td>\n",
       "      <td>-1.600486</td>\n",
       "      <td>0.842347</td>\n",
       "      <td>-0.013418</td>\n",
       "      <td>-0.611353</td>\n",
       "      <td>-0.746678</td>\n",
       "      <td>-0.095841</td>\n",
       "      <td>0.202648</td>\n",
       "      <td>0.419535</td>\n",
       "      <td>0.094807</td>\n",
       "    </tr>\n",
       "    <tr>\n",
       "      <th>2</th>\n",
       "      <td>-0.018977</td>\n",
       "      <td>1.618126e-13</td>\n",
       "      <td>-6.219448e-01</td>\n",
       "      <td>-1.851447</td>\n",
       "      <td>0.0</td>\n",
       "      <td>0.0</td>\n",
       "      <td>-0.224766</td>\n",
       "      <td>1.646216</td>\n",
       "      <td>0.106955</td>\n",
       "      <td>-0.829940</td>\n",
       "      <td>-0.013418</td>\n",
       "      <td>-1.487214</td>\n",
       "      <td>1.213329</td>\n",
       "      <td>0.032129</td>\n",
       "      <td>1.358452</td>\n",
       "      <td>0.419535</td>\n",
       "      <td>0.850164</td>\n",
       "    </tr>\n",
       "    <tr>\n",
       "      <th>3</th>\n",
       "      <td>-0.018977</td>\n",
       "      <td>1.618126e-13</td>\n",
       "      <td>-6.219448e-01</td>\n",
       "      <td>-1.851447</td>\n",
       "      <td>0.0</td>\n",
       "      <td>0.0</td>\n",
       "      <td>-0.224766</td>\n",
       "      <td>1.646216</td>\n",
       "      <td>-0.860279</td>\n",
       "      <td>1.488379</td>\n",
       "      <td>-0.013418</td>\n",
       "      <td>1.233028</td>\n",
       "      <td>1.343997</td>\n",
       "      <td>1.642073</td>\n",
       "      <td>-1.505272</td>\n",
       "      <td>0.419535</td>\n",
       "      <td>-0.350456</td>\n",
       "    </tr>\n",
       "    <tr>\n",
       "      <th>4</th>\n",
       "      <td>-0.018977</td>\n",
       "      <td>1.618126e-13</td>\n",
       "      <td>-1.815938e-16</td>\n",
       "      <td>-1.851447</td>\n",
       "      <td>0.0</td>\n",
       "      <td>0.0</td>\n",
       "      <td>-0.224766</td>\n",
       "      <td>1.646216</td>\n",
       "      <td>-0.959604</td>\n",
       "      <td>1.407405</td>\n",
       "      <td>-0.013418</td>\n",
       "      <td>-1.487214</td>\n",
       "      <td>1.213329</td>\n",
       "      <td>0.021120</td>\n",
       "      <td>1.352385</td>\n",
       "      <td>0.419535</td>\n",
       "      <td>0.845620</td>\n",
       "    </tr>\n",
       "  </tbody>\n",
       "</table>\n",
       "</div>"
      ],
      "text/plain": [
       "   category     amenities     bathrooms  bedrooms  currency  fee  has_photo  \\\n",
       "0 -0.018977  1.618126e-13 -1.815938e-16 -1.851447       0.0  0.0  -0.224766   \n",
       "1 -0.018977  1.618126e-13 -1.815938e-16 -0.789850       0.0  0.0  -0.224766   \n",
       "2 -0.018977  1.618126e-13 -6.219448e-01 -1.851447       0.0  0.0  -0.224766   \n",
       "3 -0.018977  1.618126e-13 -6.219448e-01 -1.851447       0.0  0.0  -0.224766   \n",
       "4 -0.018977  1.618126e-13 -1.815938e-16 -1.851447       0.0  0.0  -0.224766   \n",
       "\n",
       "   pets_allowed     price  price_display  price_type  cityname     state  \\\n",
       "0      1.646216 -1.148794       1.256019   -0.013418  1.636762 -1.269347   \n",
       "1      1.646216 -1.600486       0.842347   -0.013418 -0.611353 -0.746678   \n",
       "2      1.646216  0.106955      -0.829940   -0.013418 -1.487214  1.213329   \n",
       "3      1.646216 -0.860279       1.488379   -0.013418  1.233028  1.343997   \n",
       "4      1.646216 -0.959604       1.407405   -0.013418 -1.487214  1.213329   \n",
       "\n",
       "   latitude  longitude    source      time  \n",
       "0  0.037633   1.388788  0.419535  0.852435  \n",
       "1 -0.095841   0.202648  0.419535  0.094807  \n",
       "2  0.032129   1.358452  0.419535  0.850164  \n",
       "3  1.642073  -1.505272  0.419535 -0.350456  \n",
       "4  0.021120   1.352385  0.419535  0.845620  "
      ]
     },
     "execution_count": 31,
     "metadata": {},
     "output_type": "execute_result"
    }
   ],
   "source": [
    "scaler = StandardScaler()\n",
    "df_features_scaler = scaler.fit_transform(df_features_noNaN)\n",
    "df_features_scaler = pd.DataFrame(df_features_scaler,columns=df_features.columns)\n",
    "df_features_scaler.head()"
   ]
  },
  {
   "cell_type": "markdown",
   "metadata": {},
   "source": [
    "### Train test split"
   ]
  },
  {
   "cell_type": "code",
   "execution_count": 33,
   "metadata": {},
   "outputs": [
    {
     "name": "stdout",
     "output_type": "stream",
     "text": [
      "(8000, 17) (2000, 17)\n",
      "(8000, 1) (2000, 1)\n"
     ]
    }
   ],
   "source": [
    "X_train, X_test, y_train, y_test = train_test_split(df_features_scaler,df_label,test_size=0.2,random_state=42)\n",
    "print(X_train.shape,X_test.shape)\n",
    "print(y_train.shape,y_test.shape)"
   ]
  },
  {
   "cell_type": "markdown",
   "metadata": {},
   "source": [
    "### `NOTE:` For more projects visit: github.com/itechdp"
   ]
  }
 ],
 "metadata": {
  "kernelspec": {
   "display_name": "Python 3",
   "language": "python",
   "name": "python3"
  },
  "language_info": {
   "codemirror_mode": {
    "name": "ipython",
    "version": 3
   },
   "file_extension": ".py",
   "mimetype": "text/x-python",
   "name": "python",
   "nbconvert_exporter": "python",
   "pygments_lexer": "ipython3",
   "version": "3.11.4"
  }
 },
 "nbformat": 4,
 "nbformat_minor": 2
}
