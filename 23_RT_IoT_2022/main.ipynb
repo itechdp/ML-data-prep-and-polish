{
 "cells": [
  {
   "cell_type": "markdown",
   "metadata": {},
   "source": [
    "# RT-IoT 2022\n",
    "- The RT-IoT2022, a proprietary dataset derived from a real-time IoT infrastructure, is introduced as a comprehensive resource integrating a diverse range of IoT devices and sophisticated network attack methodologies. This dataset encompasses both normal and adversarial network behaviours, providing a general representation of real-world scenarios. Incorporating data from IoT devices such as ThingSpeak-LED, Wipro-Bulb, and MQTT-Temp, as well as simulated attack scenarios involving Brute-Force SSH attacks, DDoS attacks using Hping and Slowloris, and Nmap patterns, RT-IoT2022 offers a detailed perspective on the complex nature of network traffic. The bidirectional attributes of network traffic are meticulously captured using the Zeek network monitoring tool and the Flowmeter plugin. Researchers can leverage the RT-IoT2022 dataset to advance the capabilities of Intrusion Detection Systems (IDS), fostering the development of robust and adaptive security solutions for real-time IoT networks."
   ]
  },
  {
   "cell_type": "markdown",
   "metadata": {},
   "source": [
    "### Importing Packages"
   ]
  },
  {
   "cell_type": "code",
   "execution_count": 86,
   "metadata": {},
   "outputs": [],
   "source": [
    "import pandas as pd\n",
    "import matplotlib.pyplot as plt\n",
    "import seaborn as sns\n",
    "from sklearn.preprocessing import OrdinalEncoder\n",
    "from sklearn.impute import SimpleImputer\n",
    "from sklearn.preprocessing import StandardScaler\n",
    "from sklearn.model_selection import train_test_split"
   ]
  },
  {
   "cell_type": "markdown",
   "metadata": {},
   "source": [
    "### Loading Packages"
   ]
  },
  {
   "cell_type": "code",
   "execution_count": 13,
   "metadata": {},
   "outputs": [
    {
     "data": {
      "text/html": [
       "<div>\n",
       "<style scoped>\n",
       "    .dataframe tbody tr th:only-of-type {\n",
       "        vertical-align: middle;\n",
       "    }\n",
       "\n",
       "    .dataframe tbody tr th {\n",
       "        vertical-align: top;\n",
       "    }\n",
       "\n",
       "    .dataframe thead th {\n",
       "        text-align: right;\n",
       "    }\n",
       "</style>\n",
       "<table border=\"1\" class=\"dataframe\">\n",
       "  <thead>\n",
       "    <tr style=\"text-align: right;\">\n",
       "      <th></th>\n",
       "      <th>sr.no</th>\n",
       "      <th>id.orig_p</th>\n",
       "      <th>id.resp_p</th>\n",
       "      <th>proto</th>\n",
       "      <th>service</th>\n",
       "      <th>flow_duration</th>\n",
       "      <th>fwd_pkts_tot</th>\n",
       "      <th>bwd_pkts_tot</th>\n",
       "      <th>fwd_data_pkts_tot</th>\n",
       "      <th>bwd_data_pkts_tot</th>\n",
       "      <th>...</th>\n",
       "      <th>active.std</th>\n",
       "      <th>idle.min</th>\n",
       "      <th>idle.max</th>\n",
       "      <th>idle.tot</th>\n",
       "      <th>idle.avg</th>\n",
       "      <th>idle.std</th>\n",
       "      <th>fwd_init_window_size</th>\n",
       "      <th>bwd_init_window_size</th>\n",
       "      <th>fwd_last_window_size</th>\n",
       "      <th>Attack_type</th>\n",
       "    </tr>\n",
       "  </thead>\n",
       "  <tbody>\n",
       "    <tr>\n",
       "      <th>0</th>\n",
       "      <td>0</td>\n",
       "      <td>38667</td>\n",
       "      <td>1883</td>\n",
       "      <td>tcp</td>\n",
       "      <td>mqtt</td>\n",
       "      <td>32.011598</td>\n",
       "      <td>9</td>\n",
       "      <td>5</td>\n",
       "      <td>3</td>\n",
       "      <td>3</td>\n",
       "      <td>...</td>\n",
       "      <td>0.0</td>\n",
       "      <td>2.972918e+07</td>\n",
       "      <td>2.972918e+07</td>\n",
       "      <td>2.972918e+07</td>\n",
       "      <td>2.972918e+07</td>\n",
       "      <td>0.0</td>\n",
       "      <td>64240</td>\n",
       "      <td>26847</td>\n",
       "      <td>502</td>\n",
       "      <td>MQTT_Publish</td>\n",
       "    </tr>\n",
       "    <tr>\n",
       "      <th>1</th>\n",
       "      <td>1</td>\n",
       "      <td>51143</td>\n",
       "      <td>1883</td>\n",
       "      <td>tcp</td>\n",
       "      <td>mqtt</td>\n",
       "      <td>31.883584</td>\n",
       "      <td>9</td>\n",
       "      <td>5</td>\n",
       "      <td>3</td>\n",
       "      <td>3</td>\n",
       "      <td>...</td>\n",
       "      <td>0.0</td>\n",
       "      <td>2.985528e+07</td>\n",
       "      <td>2.985528e+07</td>\n",
       "      <td>2.985528e+07</td>\n",
       "      <td>2.985528e+07</td>\n",
       "      <td>0.0</td>\n",
       "      <td>64240</td>\n",
       "      <td>26847</td>\n",
       "      <td>502</td>\n",
       "      <td>MQTT_Publish</td>\n",
       "    </tr>\n",
       "    <tr>\n",
       "      <th>2</th>\n",
       "      <td>2</td>\n",
       "      <td>44761</td>\n",
       "      <td>1883</td>\n",
       "      <td>tcp</td>\n",
       "      <td>mqtt</td>\n",
       "      <td>32.124053</td>\n",
       "      <td>9</td>\n",
       "      <td>5</td>\n",
       "      <td>3</td>\n",
       "      <td>3</td>\n",
       "      <td>...</td>\n",
       "      <td>0.0</td>\n",
       "      <td>2.984215e+07</td>\n",
       "      <td>2.984215e+07</td>\n",
       "      <td>2.984215e+07</td>\n",
       "      <td>2.984215e+07</td>\n",
       "      <td>0.0</td>\n",
       "      <td>64240</td>\n",
       "      <td>26847</td>\n",
       "      <td>502</td>\n",
       "      <td>MQTT_Publish</td>\n",
       "    </tr>\n",
       "    <tr>\n",
       "      <th>3</th>\n",
       "      <td>3</td>\n",
       "      <td>60893</td>\n",
       "      <td>1883</td>\n",
       "      <td>tcp</td>\n",
       "      <td>mqtt</td>\n",
       "      <td>31.961063</td>\n",
       "      <td>9</td>\n",
       "      <td>5</td>\n",
       "      <td>3</td>\n",
       "      <td>3</td>\n",
       "      <td>...</td>\n",
       "      <td>0.0</td>\n",
       "      <td>2.991377e+07</td>\n",
       "      <td>2.991377e+07</td>\n",
       "      <td>2.991377e+07</td>\n",
       "      <td>2.991377e+07</td>\n",
       "      <td>0.0</td>\n",
       "      <td>64240</td>\n",
       "      <td>26847</td>\n",
       "      <td>502</td>\n",
       "      <td>MQTT_Publish</td>\n",
       "    </tr>\n",
       "    <tr>\n",
       "      <th>4</th>\n",
       "      <td>4</td>\n",
       "      <td>51087</td>\n",
       "      <td>1883</td>\n",
       "      <td>tcp</td>\n",
       "      <td>mqtt</td>\n",
       "      <td>31.902362</td>\n",
       "      <td>9</td>\n",
       "      <td>5</td>\n",
       "      <td>3</td>\n",
       "      <td>3</td>\n",
       "      <td>...</td>\n",
       "      <td>0.0</td>\n",
       "      <td>2.981470e+07</td>\n",
       "      <td>2.981470e+07</td>\n",
       "      <td>2.981470e+07</td>\n",
       "      <td>2.981470e+07</td>\n",
       "      <td>0.0</td>\n",
       "      <td>64240</td>\n",
       "      <td>26847</td>\n",
       "      <td>502</td>\n",
       "      <td>MQTT_Publish</td>\n",
       "    </tr>\n",
       "  </tbody>\n",
       "</table>\n",
       "<p>5 rows × 85 columns</p>\n",
       "</div>"
      ],
      "text/plain": [
       "   sr.no  id.orig_p  id.resp_p proto service  flow_duration  fwd_pkts_tot  \\\n",
       "0      0      38667       1883   tcp    mqtt      32.011598             9   \n",
       "1      1      51143       1883   tcp    mqtt      31.883584             9   \n",
       "2      2      44761       1883   tcp    mqtt      32.124053             9   \n",
       "3      3      60893       1883   tcp    mqtt      31.961063             9   \n",
       "4      4      51087       1883   tcp    mqtt      31.902362             9   \n",
       "\n",
       "   bwd_pkts_tot  fwd_data_pkts_tot  bwd_data_pkts_tot  ...  active.std  \\\n",
       "0             5                  3                  3  ...         0.0   \n",
       "1             5                  3                  3  ...         0.0   \n",
       "2             5                  3                  3  ...         0.0   \n",
       "3             5                  3                  3  ...         0.0   \n",
       "4             5                  3                  3  ...         0.0   \n",
       "\n",
       "       idle.min      idle.max      idle.tot      idle.avg  idle.std  \\\n",
       "0  2.972918e+07  2.972918e+07  2.972918e+07  2.972918e+07       0.0   \n",
       "1  2.985528e+07  2.985528e+07  2.985528e+07  2.985528e+07       0.0   \n",
       "2  2.984215e+07  2.984215e+07  2.984215e+07  2.984215e+07       0.0   \n",
       "3  2.991377e+07  2.991377e+07  2.991377e+07  2.991377e+07       0.0   \n",
       "4  2.981470e+07  2.981470e+07  2.981470e+07  2.981470e+07       0.0   \n",
       "\n",
       "   fwd_init_window_size  bwd_init_window_size  fwd_last_window_size  \\\n",
       "0                 64240                 26847                   502   \n",
       "1                 64240                 26847                   502   \n",
       "2                 64240                 26847                   502   \n",
       "3                 64240                 26847                   502   \n",
       "4                 64240                 26847                   502   \n",
       "\n",
       "    Attack_type  \n",
       "0  MQTT_Publish  \n",
       "1  MQTT_Publish  \n",
       "2  MQTT_Publish  \n",
       "3  MQTT_Publish  \n",
       "4  MQTT_Publish  \n",
       "\n",
       "[5 rows x 85 columns]"
      ]
     },
     "execution_count": 13,
     "metadata": {},
     "output_type": "execute_result"
    }
   ],
   "source": [
    "df = pd.read_csv('RT_IOT2022')\n",
    "df.head()"
   ]
  },
  {
   "cell_type": "markdown",
   "metadata": {},
   "source": [
    "### information about Dataset"
   ]
  },
  {
   "cell_type": "code",
   "execution_count": 14,
   "metadata": {},
   "outputs": [
    {
     "name": "stdout",
     "output_type": "stream",
     "text": [
      "<class 'pandas.core.frame.DataFrame'>\n",
      "RangeIndex: 123117 entries, 0 to 123116\n",
      "Data columns (total 85 columns):\n",
      " #   Column                    Non-Null Count   Dtype  \n",
      "---  ------                    --------------   -----  \n",
      " 0   sr.no                     123117 non-null  int64  \n",
      " 1   id.orig_p                 123117 non-null  int64  \n",
      " 2   id.resp_p                 123117 non-null  int64  \n",
      " 3   proto                     123117 non-null  object \n",
      " 4   service                   123117 non-null  object \n",
      " 5   flow_duration             123117 non-null  float64\n",
      " 6   fwd_pkts_tot              123117 non-null  int64  \n",
      " 7   bwd_pkts_tot              123117 non-null  int64  \n",
      " 8   fwd_data_pkts_tot         123117 non-null  int64  \n",
      " 9   bwd_data_pkts_tot         123117 non-null  int64  \n",
      " 10  fwd_pkts_per_sec          123117 non-null  float64\n",
      " 11  bwd_pkts_per_sec          123117 non-null  float64\n",
      " 12  flow_pkts_per_sec         123117 non-null  float64\n",
      " 13  down_up_ratio             123117 non-null  float64\n",
      " 14  fwd_header_size_tot       123117 non-null  int64  \n",
      " 15  fwd_header_size_min       123117 non-null  int64  \n",
      " 16  fwd_header_size_max       123117 non-null  int64  \n",
      " 17  bwd_header_size_tot       123117 non-null  int64  \n",
      " 18  bwd_header_size_min       123117 non-null  int64  \n",
      " 19  bwd_header_size_max       123117 non-null  int64  \n",
      " 20  flow_FIN_flag_count       123117 non-null  int64  \n",
      " 21  flow_SYN_flag_count       123117 non-null  int64  \n",
      " 22  flow_RST_flag_count       123117 non-null  int64  \n",
      " 23  fwd_PSH_flag_count        123117 non-null  int64  \n",
      " 24  bwd_PSH_flag_count        123117 non-null  int64  \n",
      " 25  flow_ACK_flag_count       123117 non-null  int64  \n",
      " 26  fwd_URG_flag_count        123117 non-null  int64  \n",
      " 27  bwd_URG_flag_count        123117 non-null  int64  \n",
      " 28  flow_CWR_flag_count       123117 non-null  int64  \n",
      " 29  flow_ECE_flag_count       123117 non-null  int64  \n",
      " 30  fwd_pkts_payload.min      123117 non-null  float64\n",
      " 31  fwd_pkts_payload.max      123117 non-null  float64\n",
      " 32  fwd_pkts_payload.tot      123117 non-null  float64\n",
      " 33  fwd_pkts_payload.avg      123117 non-null  float64\n",
      " 34  fwd_pkts_payload.std      123117 non-null  float64\n",
      " 35  bwd_pkts_payload.min      123117 non-null  float64\n",
      " 36  bwd_pkts_payload.max      123117 non-null  float64\n",
      " 37  bwd_pkts_payload.tot      123117 non-null  float64\n",
      " 38  bwd_pkts_payload.avg      123117 non-null  float64\n",
      " 39  bwd_pkts_payload.std      123117 non-null  float64\n",
      " 40  flow_pkts_payload.min     123117 non-null  float64\n",
      " 41  flow_pkts_payload.max     123117 non-null  float64\n",
      " 42  flow_pkts_payload.tot     123117 non-null  float64\n",
      " 43  flow_pkts_payload.avg     123117 non-null  float64\n",
      " 44  flow_pkts_payload.std     123117 non-null  float64\n",
      " 45  fwd_iat.min               123117 non-null  float64\n",
      " 46  fwd_iat.max               123117 non-null  float64\n",
      " 47  fwd_iat.tot               123117 non-null  float64\n",
      " 48  fwd_iat.avg               123117 non-null  float64\n",
      " 49  fwd_iat.std               123117 non-null  float64\n",
      " 50  bwd_iat.min               123117 non-null  float64\n",
      " 51  bwd_iat.max               123117 non-null  float64\n",
      " 52  bwd_iat.tot               123117 non-null  float64\n",
      " 53  bwd_iat.avg               123117 non-null  float64\n",
      " 54  bwd_iat.std               123117 non-null  float64\n",
      " 55  flow_iat.min              123117 non-null  float64\n",
      " 56  flow_iat.max              123117 non-null  float64\n",
      " 57  flow_iat.tot              123117 non-null  float64\n",
      " 58  flow_iat.avg              123117 non-null  float64\n",
      " 59  flow_iat.std              123117 non-null  float64\n",
      " 60  payload_bytes_per_second  123117 non-null  float64\n",
      " 61  fwd_subflow_pkts          123117 non-null  float64\n",
      " 62  bwd_subflow_pkts          123117 non-null  float64\n",
      " 63  fwd_subflow_bytes         123117 non-null  float64\n",
      " 64  bwd_subflow_bytes         123117 non-null  float64\n",
      " 65  fwd_bulk_bytes            123117 non-null  float64\n",
      " 66  bwd_bulk_bytes            123117 non-null  float64\n",
      " 67  fwd_bulk_packets          123117 non-null  float64\n",
      " 68  bwd_bulk_packets          123117 non-null  float64\n",
      " 69  fwd_bulk_rate             123117 non-null  float64\n",
      " 70  bwd_bulk_rate             123117 non-null  float64\n",
      " 71  active.min                123117 non-null  float64\n",
      " 72  active.max                123117 non-null  float64\n",
      " 73  active.tot                123117 non-null  float64\n",
      " 74  active.avg                123117 non-null  float64\n",
      " 75  active.std                123117 non-null  float64\n",
      " 76  idle.min                  123117 non-null  float64\n",
      " 77  idle.max                  123117 non-null  float64\n",
      " 78  idle.tot                  123117 non-null  float64\n",
      " 79  idle.avg                  123117 non-null  float64\n",
      " 80  idle.std                  123117 non-null  float64\n",
      " 81  fwd_init_window_size      123117 non-null  int64  \n",
      " 82  bwd_init_window_size      123117 non-null  int64  \n",
      " 83  fwd_last_window_size      123117 non-null  int64  \n",
      " 84  Attack_type               123117 non-null  object \n",
      "dtypes: float64(56), int64(26), object(3)\n",
      "memory usage: 79.8+ MB\n"
     ]
    }
   ],
   "source": [
    "df.info()"
   ]
  },
  {
   "cell_type": "markdown",
   "metadata": {},
   "source": [
    "### Describing Attribute"
   ]
  },
  {
   "cell_type": "code",
   "execution_count": 15,
   "metadata": {},
   "outputs": [
    {
     "data": {
      "text/html": [
       "<div>\n",
       "<style scoped>\n",
       "    .dataframe tbody tr th:only-of-type {\n",
       "        vertical-align: middle;\n",
       "    }\n",
       "\n",
       "    .dataframe tbody tr th {\n",
       "        vertical-align: top;\n",
       "    }\n",
       "\n",
       "    .dataframe thead th {\n",
       "        text-align: right;\n",
       "    }\n",
       "</style>\n",
       "<table border=\"1\" class=\"dataframe\">\n",
       "  <thead>\n",
       "    <tr style=\"text-align: right;\">\n",
       "      <th></th>\n",
       "      <th>sr.no</th>\n",
       "      <th>id.orig_p</th>\n",
       "      <th>id.resp_p</th>\n",
       "      <th>flow_duration</th>\n",
       "      <th>fwd_pkts_tot</th>\n",
       "      <th>bwd_pkts_tot</th>\n",
       "      <th>fwd_data_pkts_tot</th>\n",
       "      <th>bwd_data_pkts_tot</th>\n",
       "      <th>fwd_pkts_per_sec</th>\n",
       "      <th>bwd_pkts_per_sec</th>\n",
       "      <th>...</th>\n",
       "      <th>active.avg</th>\n",
       "      <th>active.std</th>\n",
       "      <th>idle.min</th>\n",
       "      <th>idle.max</th>\n",
       "      <th>idle.tot</th>\n",
       "      <th>idle.avg</th>\n",
       "      <th>idle.std</th>\n",
       "      <th>fwd_init_window_size</th>\n",
       "      <th>bwd_init_window_size</th>\n",
       "      <th>fwd_last_window_size</th>\n",
       "    </tr>\n",
       "  </thead>\n",
       "  <tbody>\n",
       "    <tr>\n",
       "      <th>count</th>\n",
       "      <td>123117.000000</td>\n",
       "      <td>123117.000000</td>\n",
       "      <td>123117.000000</td>\n",
       "      <td>123117.000000</td>\n",
       "      <td>123117.000000</td>\n",
       "      <td>123117.000000</td>\n",
       "      <td>123117.000000</td>\n",
       "      <td>123117.000000</td>\n",
       "      <td>1.231170e+05</td>\n",
       "      <td>1.231170e+05</td>\n",
       "      <td>...</td>\n",
       "      <td>1.231170e+05</td>\n",
       "      <td>1.231170e+05</td>\n",
       "      <td>1.231170e+05</td>\n",
       "      <td>1.231170e+05</td>\n",
       "      <td>1.231170e+05</td>\n",
       "      <td>1.231170e+05</td>\n",
       "      <td>1.231170e+05</td>\n",
       "      <td>123117.000000</td>\n",
       "      <td>123117.000000</td>\n",
       "      <td>123117.000000</td>\n",
       "    </tr>\n",
       "    <tr>\n",
       "      <th>mean</th>\n",
       "      <td>37035.089248</td>\n",
       "      <td>34639.258738</td>\n",
       "      <td>1014.305092</td>\n",
       "      <td>3.809566</td>\n",
       "      <td>2.268826</td>\n",
       "      <td>1.909509</td>\n",
       "      <td>1.471218</td>\n",
       "      <td>0.820260</td>\n",
       "      <td>3.518063e+05</td>\n",
       "      <td>3.517620e+05</td>\n",
       "      <td>...</td>\n",
       "      <td>1.481354e+05</td>\n",
       "      <td>2.353599e+04</td>\n",
       "      <td>1.616655e+06</td>\n",
       "      <td>1.701956e+06</td>\n",
       "      <td>3.517644e+06</td>\n",
       "      <td>1.664985e+06</td>\n",
       "      <td>4.550183e+04</td>\n",
       "      <td>6118.905123</td>\n",
       "      <td>2739.776018</td>\n",
       "      <td>751.647514</td>\n",
       "    </tr>\n",
       "    <tr>\n",
       "      <th>std</th>\n",
       "      <td>30459.106367</td>\n",
       "      <td>19070.620354</td>\n",
       "      <td>5256.371994</td>\n",
       "      <td>130.005408</td>\n",
       "      <td>22.336565</td>\n",
       "      <td>33.018311</td>\n",
       "      <td>19.635196</td>\n",
       "      <td>32.293948</td>\n",
       "      <td>3.707645e+05</td>\n",
       "      <td>3.708015e+05</td>\n",
       "      <td>...</td>\n",
       "      <td>1.613007e+06</td>\n",
       "      <td>1.477935e+06</td>\n",
       "      <td>8.809396e+06</td>\n",
       "      <td>9.252337e+06</td>\n",
       "      <td>1.229508e+08</td>\n",
       "      <td>9.007064e+06</td>\n",
       "      <td>1.091361e+06</td>\n",
       "      <td>18716.313861</td>\n",
       "      <td>10018.848534</td>\n",
       "      <td>6310.183843</td>\n",
       "    </tr>\n",
       "    <tr>\n",
       "      <th>min</th>\n",
       "      <td>0.000000</td>\n",
       "      <td>0.000000</td>\n",
       "      <td>0.000000</td>\n",
       "      <td>0.000000</td>\n",
       "      <td>0.000000</td>\n",
       "      <td>0.000000</td>\n",
       "      <td>0.000000</td>\n",
       "      <td>0.000000</td>\n",
       "      <td>0.000000e+00</td>\n",
       "      <td>0.000000e+00</td>\n",
       "      <td>...</td>\n",
       "      <td>0.000000e+00</td>\n",
       "      <td>0.000000e+00</td>\n",
       "      <td>0.000000e+00</td>\n",
       "      <td>0.000000e+00</td>\n",
       "      <td>0.000000e+00</td>\n",
       "      <td>0.000000e+00</td>\n",
       "      <td>0.000000e+00</td>\n",
       "      <td>0.000000</td>\n",
       "      <td>0.000000</td>\n",
       "      <td>0.000000</td>\n",
       "    </tr>\n",
       "    <tr>\n",
       "      <th>25%</th>\n",
       "      <td>6059.000000</td>\n",
       "      <td>17702.000000</td>\n",
       "      <td>21.000000</td>\n",
       "      <td>0.000001</td>\n",
       "      <td>1.000000</td>\n",
       "      <td>1.000000</td>\n",
       "      <td>1.000000</td>\n",
       "      <td>0.000000</td>\n",
       "      <td>7.454354e+01</td>\n",
       "      <td>7.288927e+01</td>\n",
       "      <td>...</td>\n",
       "      <td>9.536740e-01</td>\n",
       "      <td>0.000000e+00</td>\n",
       "      <td>0.000000e+00</td>\n",
       "      <td>0.000000e+00</td>\n",
       "      <td>0.000000e+00</td>\n",
       "      <td>0.000000e+00</td>\n",
       "      <td>0.000000e+00</td>\n",
       "      <td>64.000000</td>\n",
       "      <td>0.000000</td>\n",
       "      <td>64.000000</td>\n",
       "    </tr>\n",
       "    <tr>\n",
       "      <th>50%</th>\n",
       "      <td>33100.000000</td>\n",
       "      <td>37221.000000</td>\n",
       "      <td>21.000000</td>\n",
       "      <td>0.000004</td>\n",
       "      <td>1.000000</td>\n",
       "      <td>1.000000</td>\n",
       "      <td>1.000000</td>\n",
       "      <td>0.000000</td>\n",
       "      <td>2.467238e+05</td>\n",
       "      <td>2.467238e+05</td>\n",
       "      <td>...</td>\n",
       "      <td>4.053116e+00</td>\n",
       "      <td>0.000000e+00</td>\n",
       "      <td>0.000000e+00</td>\n",
       "      <td>0.000000e+00</td>\n",
       "      <td>0.000000e+00</td>\n",
       "      <td>0.000000e+00</td>\n",
       "      <td>0.000000e+00</td>\n",
       "      <td>64.000000</td>\n",
       "      <td>0.000000</td>\n",
       "      <td>64.000000</td>\n",
       "    </tr>\n",
       "    <tr>\n",
       "      <th>75%</th>\n",
       "      <td>63879.000000</td>\n",
       "      <td>50971.000000</td>\n",
       "      <td>21.000000</td>\n",
       "      <td>0.000005</td>\n",
       "      <td>1.000000</td>\n",
       "      <td>1.000000</td>\n",
       "      <td>1.000000</td>\n",
       "      <td>0.000000</td>\n",
       "      <td>5.242880e+05</td>\n",
       "      <td>5.242880e+05</td>\n",
       "      <td>...</td>\n",
       "      <td>5.006790e+00</td>\n",
       "      <td>0.000000e+00</td>\n",
       "      <td>0.000000e+00</td>\n",
       "      <td>0.000000e+00</td>\n",
       "      <td>0.000000e+00</td>\n",
       "      <td>0.000000e+00</td>\n",
       "      <td>0.000000e+00</td>\n",
       "      <td>64.000000</td>\n",
       "      <td>0.000000</td>\n",
       "      <td>64.000000</td>\n",
       "    </tr>\n",
       "    <tr>\n",
       "      <th>max</th>\n",
       "      <td>94658.000000</td>\n",
       "      <td>65535.000000</td>\n",
       "      <td>65389.000000</td>\n",
       "      <td>21728.335578</td>\n",
       "      <td>4345.000000</td>\n",
       "      <td>10112.000000</td>\n",
       "      <td>4345.000000</td>\n",
       "      <td>10105.000000</td>\n",
       "      <td>1.048576e+06</td>\n",
       "      <td>1.048576e+06</td>\n",
       "      <td>...</td>\n",
       "      <td>4.374931e+08</td>\n",
       "      <td>4.774862e+08</td>\n",
       "      <td>3.000000e+08</td>\n",
       "      <td>3.000000e+08</td>\n",
       "      <td>2.096777e+10</td>\n",
       "      <td>3.000000e+08</td>\n",
       "      <td>1.208029e+08</td>\n",
       "      <td>65535.000000</td>\n",
       "      <td>65535.000000</td>\n",
       "      <td>65535.000000</td>\n",
       "    </tr>\n",
       "  </tbody>\n",
       "</table>\n",
       "<p>8 rows × 82 columns</p>\n",
       "</div>"
      ],
      "text/plain": [
       "               sr.no      id.orig_p      id.resp_p  flow_duration  \\\n",
       "count  123117.000000  123117.000000  123117.000000  123117.000000   \n",
       "mean    37035.089248   34639.258738    1014.305092       3.809566   \n",
       "std     30459.106367   19070.620354    5256.371994     130.005408   \n",
       "min         0.000000       0.000000       0.000000       0.000000   \n",
       "25%      6059.000000   17702.000000      21.000000       0.000001   \n",
       "50%     33100.000000   37221.000000      21.000000       0.000004   \n",
       "75%     63879.000000   50971.000000      21.000000       0.000005   \n",
       "max     94658.000000   65535.000000   65389.000000   21728.335578   \n",
       "\n",
       "        fwd_pkts_tot   bwd_pkts_tot  fwd_data_pkts_tot  bwd_data_pkts_tot  \\\n",
       "count  123117.000000  123117.000000      123117.000000      123117.000000   \n",
       "mean        2.268826       1.909509           1.471218           0.820260   \n",
       "std        22.336565      33.018311          19.635196          32.293948   \n",
       "min         0.000000       0.000000           0.000000           0.000000   \n",
       "25%         1.000000       1.000000           1.000000           0.000000   \n",
       "50%         1.000000       1.000000           1.000000           0.000000   \n",
       "75%         1.000000       1.000000           1.000000           0.000000   \n",
       "max      4345.000000   10112.000000        4345.000000       10105.000000   \n",
       "\n",
       "       fwd_pkts_per_sec  bwd_pkts_per_sec  ...    active.avg    active.std  \\\n",
       "count      1.231170e+05      1.231170e+05  ...  1.231170e+05  1.231170e+05   \n",
       "mean       3.518063e+05      3.517620e+05  ...  1.481354e+05  2.353599e+04   \n",
       "std        3.707645e+05      3.708015e+05  ...  1.613007e+06  1.477935e+06   \n",
       "min        0.000000e+00      0.000000e+00  ...  0.000000e+00  0.000000e+00   \n",
       "25%        7.454354e+01      7.288927e+01  ...  9.536740e-01  0.000000e+00   \n",
       "50%        2.467238e+05      2.467238e+05  ...  4.053116e+00  0.000000e+00   \n",
       "75%        5.242880e+05      5.242880e+05  ...  5.006790e+00  0.000000e+00   \n",
       "max        1.048576e+06      1.048576e+06  ...  4.374931e+08  4.774862e+08   \n",
       "\n",
       "           idle.min      idle.max      idle.tot      idle.avg      idle.std  \\\n",
       "count  1.231170e+05  1.231170e+05  1.231170e+05  1.231170e+05  1.231170e+05   \n",
       "mean   1.616655e+06  1.701956e+06  3.517644e+06  1.664985e+06  4.550183e+04   \n",
       "std    8.809396e+06  9.252337e+06  1.229508e+08  9.007064e+06  1.091361e+06   \n",
       "min    0.000000e+00  0.000000e+00  0.000000e+00  0.000000e+00  0.000000e+00   \n",
       "25%    0.000000e+00  0.000000e+00  0.000000e+00  0.000000e+00  0.000000e+00   \n",
       "50%    0.000000e+00  0.000000e+00  0.000000e+00  0.000000e+00  0.000000e+00   \n",
       "75%    0.000000e+00  0.000000e+00  0.000000e+00  0.000000e+00  0.000000e+00   \n",
       "max    3.000000e+08  3.000000e+08  2.096777e+10  3.000000e+08  1.208029e+08   \n",
       "\n",
       "       fwd_init_window_size  bwd_init_window_size  fwd_last_window_size  \n",
       "count         123117.000000         123117.000000         123117.000000  \n",
       "mean            6118.905123           2739.776018            751.647514  \n",
       "std            18716.313861          10018.848534           6310.183843  \n",
       "min                0.000000              0.000000              0.000000  \n",
       "25%               64.000000              0.000000             64.000000  \n",
       "50%               64.000000              0.000000             64.000000  \n",
       "75%               64.000000              0.000000             64.000000  \n",
       "max            65535.000000          65535.000000          65535.000000  \n",
       "\n",
       "[8 rows x 82 columns]"
      ]
     },
     "execution_count": 15,
     "metadata": {},
     "output_type": "execute_result"
    }
   ],
   "source": [
    "df.describe()"
   ]
  },
  {
   "cell_type": "markdown",
   "metadata": {},
   "source": [
    "### Getting Object columns"
   ]
  },
  {
   "cell_type": "code",
   "execution_count": 16,
   "metadata": {},
   "outputs": [
    {
     "data": {
      "text/html": [
       "<div>\n",
       "<style scoped>\n",
       "    .dataframe tbody tr th:only-of-type {\n",
       "        vertical-align: middle;\n",
       "    }\n",
       "\n",
       "    .dataframe tbody tr th {\n",
       "        vertical-align: top;\n",
       "    }\n",
       "\n",
       "    .dataframe thead th {\n",
       "        text-align: right;\n",
       "    }\n",
       "</style>\n",
       "<table border=\"1\" class=\"dataframe\">\n",
       "  <thead>\n",
       "    <tr style=\"text-align: right;\">\n",
       "      <th></th>\n",
       "      <th>proto</th>\n",
       "      <th>service</th>\n",
       "      <th>Attack_type</th>\n",
       "    </tr>\n",
       "  </thead>\n",
       "  <tbody>\n",
       "    <tr>\n",
       "      <th>0</th>\n",
       "      <td>tcp</td>\n",
       "      <td>mqtt</td>\n",
       "      <td>MQTT_Publish</td>\n",
       "    </tr>\n",
       "    <tr>\n",
       "      <th>1</th>\n",
       "      <td>tcp</td>\n",
       "      <td>mqtt</td>\n",
       "      <td>MQTT_Publish</td>\n",
       "    </tr>\n",
       "    <tr>\n",
       "      <th>2</th>\n",
       "      <td>tcp</td>\n",
       "      <td>mqtt</td>\n",
       "      <td>MQTT_Publish</td>\n",
       "    </tr>\n",
       "    <tr>\n",
       "      <th>3</th>\n",
       "      <td>tcp</td>\n",
       "      <td>mqtt</td>\n",
       "      <td>MQTT_Publish</td>\n",
       "    </tr>\n",
       "    <tr>\n",
       "      <th>4</th>\n",
       "      <td>tcp</td>\n",
       "      <td>mqtt</td>\n",
       "      <td>MQTT_Publish</td>\n",
       "    </tr>\n",
       "  </tbody>\n",
       "</table>\n",
       "</div>"
      ],
      "text/plain": [
       "  proto service   Attack_type\n",
       "0   tcp    mqtt  MQTT_Publish\n",
       "1   tcp    mqtt  MQTT_Publish\n",
       "2   tcp    mqtt  MQTT_Publish\n",
       "3   tcp    mqtt  MQTT_Publish\n",
       "4   tcp    mqtt  MQTT_Publish"
      ]
     },
     "execution_count": 16,
     "metadata": {},
     "output_type": "execute_result"
    }
   ],
   "source": [
    "df_object_cols = df.select_dtypes(\"object\")\n",
    "df_object_cols.head()"
   ]
  },
  {
   "cell_type": "markdown",
   "metadata": {},
   "source": [
    "### N-Unique values in dataset"
   ]
  },
  {
   "cell_type": "code",
   "execution_count": 17,
   "metadata": {},
   "outputs": [
    {
     "data": {
      "text/plain": [
       "proto           3\n",
       "service        10\n",
       "Attack_type    12\n",
       "dtype: int64"
      ]
     },
     "execution_count": 17,
     "metadata": {},
     "output_type": "execute_result"
    }
   ],
   "source": [
    "df_object_cols.nunique()"
   ]
  },
  {
   "cell_type": "markdown",
   "metadata": {},
   "source": [
    "### Value count in dataset"
   ]
  },
  {
   "cell_type": "code",
   "execution_count": 18,
   "metadata": {},
   "outputs": [
    {
     "name": "stdout",
     "output_type": "stream",
     "text": [
      "tcp     110427\n",
      "udp      12633\n",
      "icmp        57\n",
      "Name: proto, dtype: int64\n",
      "-         102861\n",
      "dns         9753\n",
      "mqtt        4132\n",
      "http        3464\n",
      "ssl         2663\n",
      "ntp          121\n",
      "dhcp          50\n",
      "irc           43\n",
      "ssh           28\n",
      "radius         2\n",
      "Name: service, dtype: int64\n",
      "DOS_SYN_Hping                 94659\n",
      "Thing_Speak                    8108\n",
      "ARP_poisioning                 7750\n",
      "MQTT_Publish                   4146\n",
      "NMAP_UDP_SCAN                  2590\n",
      "NMAP_XMAS_TREE_SCAN            2010\n",
      "NMAP_OS_DETECTION              2000\n",
      "NMAP_TCP_scan                  1002\n",
      "DDOS_Slowloris                  534\n",
      "Wipro_bulb                      253\n",
      "Metasploit_Brute_Force_SSH       37\n",
      "NMAP_FIN_SCAN                    28\n",
      "Name: Attack_type, dtype: int64\n"
     ]
    }
   ],
   "source": [
    "for i in df_object_cols.columns:\n",
    "    print(df[i].value_counts())"
   ]
  },
  {
   "cell_type": "markdown",
   "metadata": {},
   "source": [
    "### Null Values in Dataset"
   ]
  },
  {
   "cell_type": "code",
   "execution_count": 21,
   "metadata": {},
   "outputs": [
    {
     "data": {
      "text/plain": [
       "sr.no                   0\n",
       "id.orig_p               0\n",
       "id.resp_p               0\n",
       "proto                   0\n",
       "service                 0\n",
       "                       ..\n",
       "idle.std                0\n",
       "fwd_init_window_size    0\n",
       "bwd_init_window_size    0\n",
       "fwd_last_window_size    0\n",
       "Attack_type             0\n",
       "Length: 85, dtype: int64"
      ]
     },
     "execution_count": 21,
     "metadata": {},
     "output_type": "execute_result"
    }
   ],
   "source": [
    "df.isnull().sum()"
   ]
  },
  {
   "cell_type": "markdown",
   "metadata": {},
   "source": [
    "### Checking for an outliers for integer columns"
   ]
  },
  {
   "cell_type": "code",
   "execution_count": 33,
   "metadata": {},
   "outputs": [
    {
     "data": {
      "image/png": "[encoded data removed]",
      "text/plain": [
       "<Figure size 2500x500 with 1 Axes>"
      ]
     },
     "metadata": {},
     "output_type": "display_data"
    }
   ],
   "source": [
    "plt.figure(figsize=(25,5))\n",
    "plt.boxplot(x=df.select_dtypes('int64'))\n",
    "plt.show()"
   ]
  },
  {
   "cell_type": "markdown",
   "metadata": {},
   "source": [
    "### Checking for an outliers for Float columns"
   ]
  },
  {
   "cell_type": "code",
   "execution_count": 34,
   "metadata": {},
   "outputs": [
    {
     "data": {
      "image/png": "[encoded data removed]",
      "text/plain": [
       "<Figure size 2500x500 with 1 Axes>"
      ]
     },
     "metadata": {},
     "output_type": "display_data"
    }
   ],
   "source": [
    "plt.figure(figsize=(25,5))\n",
    "plt.boxplot(x=df.select_dtypes('float64'))\n",
    "plt.show()"
   ]
  },
  {
   "cell_type": "markdown",
   "metadata": {},
   "source": [
    "### Splitting into Features & Label"
   ]
  },
  {
   "cell_type": "code",
   "execution_count": 20,
   "metadata": {},
   "outputs": [],
   "source": [
    "df_features = df.drop(['sr.no','Attack_type'],axis=1)\n",
    "df_label = df['Attack_type']"
   ]
  },
  {
   "cell_type": "markdown",
   "metadata": {},
   "source": [
    "### Data Preprocessing \n",
    "- Data Encoding\n",
    "- Removing outliers\n",
    "- Finding missing values\n",
    "- Data Standarization"
   ]
  },
  {
   "cell_type": "markdown",
   "metadata": {},
   "source": [
    "### Data Encoding"
   ]
  },
  {
   "cell_type": "code",
   "execution_count": 61,
   "metadata": {},
   "outputs": [],
   "source": [
    "df_features_object_cols = df_features.select_dtypes('object').columns\n",
    "encoder = OrdinalEncoder()\n",
    "df_features[df_features_object_cols] = encoder.fit_transform(df_features[df_features_object_cols])\n",
    "df_label = encoder.fit_transform(df_label)\n",
    "df_label = df_label.T"
   ]
  },
  {
   "cell_type": "markdown",
   "metadata": {},
   "source": [
    "### Removing Outliers"
   ]
  },
  {
   "cell_type": "code",
   "execution_count": 66,
   "metadata": {},
   "outputs": [],
   "source": [
    "Q1 = df_features.quantile(0.25)\n",
    "Q3 = df_features.quantile(0.75)\n",
    "IQR = Q3 - Q1\n",
    "\n",
    "lower_bound = Q1 - 1.5 * IQR\n",
    "upper_bound = Q3 + 1.5 * IQR\n",
    "\n",
    "df_features_no_outliers = df_features[(df_features >= lower_bound) & (df_features <= upper_bound)]"
   ]
  },
  {
   "cell_type": "code",
   "execution_count": 84,
   "metadata": {},
   "outputs": [
    {
     "data": {
      "image/png": "[encoded data removed]",
      "text/plain": [
       "<Figure size 2000x200 with 1 Axes>"
      ]
     },
     "metadata": {},
     "output_type": "display_data"
    }
   ],
   "source": [
    "plt.figure(figsize=(20,2))\n",
    "plt.boxplot(df_features_no_outliers)\n",
    "plt.show()"
   ]
  },
  {
   "cell_type": "markdown",
   "metadata": {},
   "source": [
    "### Finding Missing Values"
   ]
  },
  {
   "cell_type": "code",
   "execution_count": 79,
   "metadata": {},
   "outputs": [],
   "source": [
    "imputer = SimpleImputer()\n",
    "df_features_noNaN = imputer.fit_transform(df_features_no_outliers)"
   ]
  },
  {
   "cell_type": "markdown",
   "metadata": {},
   "source": [
    "### Data Standardization\n"
   ]
  },
  {
   "cell_type": "code",
   "execution_count": 83,
   "metadata": {},
   "outputs": [],
   "source": [
    "scaler = StandardScaler()\n",
    "df_features_scaled = scaler.fit_transform(df_features_noNaN)"
   ]
  },
  {
   "cell_type": "markdown",
   "metadata": {},
   "source": [
    "### Final Feature & Label assigning"
   ]
  },
  {
   "cell_type": "code",
   "execution_count": 85,
   "metadata": {},
   "outputs": [
    {
     "name": "stdout",
     "output_type": "stream",
     "text": [
      "(123117, 83) (123117, 1)\n"
     ]
    }
   ],
   "source": [
    "df_features_prepared = pd.DataFrame(df_features_scaled,columns=df_features.columns)\n",
    "df_label_prepared = df_label.copy()\n",
    "print(df_features_prepared.shape,df_label_prepared.shape)"
   ]
  },
  {
   "cell_type": "markdown",
   "metadata": {},
   "source": [
    "### Train Test Split"
   ]
  },
  {
   "cell_type": "code",
   "execution_count": 87,
   "metadata": {},
   "outputs": [
    {
     "name": "stdout",
     "output_type": "stream",
     "text": [
      "(98493, 83) (24624, 83)\n",
      "(98493, 1) (24624, 1)\n"
     ]
    }
   ],
   "source": [
    "X_train, X_test, y_train, y_test = train_test_split(df_features_prepared,df_label_prepared,test_size=0.2,random_state=42)\n",
    "print(X_train.shape,X_test.shape)\n",
    "print(y_train.shape,y_test.shape)"
   ]
  },
  {
   "cell_type": "markdown",
   "metadata": {},
   "source": [
    "### `NOTE:` Data Preprocessing has done for RT-IoT 2022 dataset which is derived from Real world data, this data can be used for further machine learning building. for more visit: www.github.com/itechdp"
   ]
  }
 ],
 "metadata": {
  "kernelspec": {
   "display_name": "Python 3",
   "language": "python",
   "name": "python3"
  },
  "language_info": {
   "codemirror_mode": {
    "name": "ipython",
    "version": 3
   },
   "file_extension": ".py",
   "mimetype": "text/x-python",
   "name": "python",
   "nbconvert_exporter": "python",
   "pygments_lexer": "ipython3",
   "version": "3.11.4"
  }
 },
 "nbformat": 4,
 "nbformat_minor": 2
}
